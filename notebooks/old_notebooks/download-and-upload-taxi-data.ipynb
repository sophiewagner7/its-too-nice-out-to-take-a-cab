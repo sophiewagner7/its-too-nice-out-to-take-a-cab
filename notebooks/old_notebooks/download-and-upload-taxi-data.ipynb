{
 "cells": [
  {
   "cell_type": "code",
   "execution_count": 11,
   "id": "f6dc9d50-7086-4dc5-8ff1-bf7abe0edc42",
   "metadata": {},
   "outputs": [],
   "source": [
    "import requests\n",
    "from tqdm import tqdm\n"
   ]
  },
  {
   "cell_type": "code",
   "execution_count": 13,
   "id": "f20ccbe6-2f09-476c-a989-a326b884602c",
   "metadata": {},
   "outputs": [],
   "source": [
    "# Adapted from https://www.geeksforgeeks.org/how-to-download-large-file-in-python-with-requests/\n",
    "def download_data(url, destination):\n",
    "    try:\n",
    "        with requests.get(url, stream=True) as response:\n",
    "            response.raise_for_status()\n",
    "            with open(destination, \"wb\") as f:\n",
    "                for chunk in response.iter_content(chunk_size=8192):\n",
    "                    f.write(chunk)\n",
    "        print(f\"{url} downloaded successfully\")\n",
    "    except requests.exceptions.RequestException as e:\n",
    "        print(\"Error downloading:\", e)"
   ]
  },
  {
   "cell_type": "code",
   "execution_count": 15,
   "id": "660b8e52-9cfb-4610-9c37-09205253ceb2",
   "metadata": {},
   "outputs": [],
   "source": [
    "urls = []\n",
    "\n",
    "root_url = \"https://d37ci6vzurychx.cloudfront.net/trip-data\"\n",
    "for data_type in [\"yellow\", \"fhvhv\"]:\n",
    "    for year in range(2019, 2025):\n",
    "        for month in range (1, 13):\n",
    "            if year == 2024 and month > 8:\n",
    "                continue\n",
    "            urls.append(f\"{root_url}/trip-data/{data_type}_tripdata_{year}-{str(month).zfill(2)}.parquet\")"
   ]
  },
  {
   "cell_type": "code",
   "execution_count": 16,
   "id": "1ff3d9d7-be44-4ae9-b072-9a2b5bc19327",
   "metadata": {},
   "outputs": [
    {
     "name": "stdout",
     "output_type": "stream",
     "text": [
      "Error downloading: 403 Client Error: Forbidden for url: https://d37ci6vzurychx.cloudfront.net/trip-data/trip-data/yellow_tripdata_2019-01.parquet\n"
     ]
    },
    {
     "ename": "NameError",
     "evalue": "name 'time' is not defined",
     "output_type": "error",
     "traceback": [
      "\u001b[0;31m---------------------------------------------------------------------------\u001b[0m",
      "\u001b[0;31mNameError\u001b[0m                                 Traceback (most recent call last)",
      "Cell \u001b[0;32mIn[16], line 4\u001b[0m\n\u001b[1;32m      2\u001b[0m filename \u001b[38;5;241m=\u001b[39m url\u001b[38;5;241m.\u001b[39msplit(\u001b[38;5;124m\"\u001b[39m\u001b[38;5;124m/\u001b[39m\u001b[38;5;124m\"\u001b[39m)[\u001b[38;5;241m-\u001b[39m\u001b[38;5;241m1\u001b[39m]\n\u001b[1;32m      3\u001b[0m download_data(url, \u001b[38;5;124mf\u001b[39m\u001b[38;5;124m\"\u001b[39m\u001b[38;5;124m../data/taxi/\u001b[39m\u001b[38;5;132;01m{\u001b[39;00mfilename\u001b[38;5;132;01m}\u001b[39;00m\u001b[38;5;124m\"\u001b[39m)\n\u001b[0;32m----> 4\u001b[0m \u001b[43mtime\u001b[49m\u001b[38;5;241m.\u001b[39msleep(\u001b[38;5;241m60\u001b[39m)\n",
      "\u001b[0;31mNameError\u001b[0m: name 'time' is not defined"
     ]
    }
   ],
   "source": [
    "for url in urls:\n",
    "  filename = url.split(\"/\")[-1]\n",
    "  download_data(url, f\"../data/taxi/{filename}\")\n",
    "  time.sleep(60)"
   ]
  },
  {
   "cell_type": "code",
   "execution_count": null,
   "id": "63728acd-96ef-414b-88da-eb4b7050b6bb",
   "metadata": {},
   "outputs": [],
   "source": []
  }
 ],
 "metadata": {
  "kernelspec": {
   "display_name": "Python 3 (ipykernel)",
   "language": "python",
   "name": "python3"
  },
  "language_info": {
   "codemirror_mode": {
    "name": "ipython",
    "version": 3
   },
   "file_extension": ".py",
   "mimetype": "text/x-python",
   "name": "python",
   "nbconvert_exporter": "python",
   "pygments_lexer": "ipython3",
   "version": "3.11.2"
  }
 },
 "nbformat": 4,
 "nbformat_minor": 5
}
