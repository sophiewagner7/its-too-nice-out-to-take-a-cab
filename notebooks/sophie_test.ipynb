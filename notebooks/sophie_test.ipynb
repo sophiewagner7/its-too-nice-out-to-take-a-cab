{
 "cells": [
  {
   "cell_type": "code",
   "execution_count": 1,
   "metadata": {},
   "outputs": [],
   "source": [
    "import pyarrow.parquet as pq \n",
    "import pandas as pd"
   ]
  },
  {
   "cell_type": "code",
   "execution_count": 6,
   "metadata": {},
   "outputs": [],
   "source": [
    "df = pq.read_table(\"../../taxi/concatenated_files/fhvhv_2019.parquet\").to_pandas()"
   ]
  },
  {
   "cell_type": "code",
   "execution_count": 7,
   "metadata": {},
   "outputs": [
    {
     "data": {
      "text/html": [
       "<div>\n",
       "<style scoped>\n",
       "    .dataframe tbody tr th:only-of-type {\n",
       "        vertical-align: middle;\n",
       "    }\n",
       "\n",
       "    .dataframe tbody tr th {\n",
       "        vertical-align: top;\n",
       "    }\n",
       "\n",
       "    .dataframe thead th {\n",
       "        text-align: right;\n",
       "    }\n",
       "</style>\n",
       "<table border=\"1\" class=\"dataframe\">\n",
       "  <thead>\n",
       "    <tr style=\"text-align: right;\">\n",
       "      <th></th>\n",
       "      <th>pickup_datetime</th>\n",
       "      <th>dropoff_datetime</th>\n",
       "      <th>trip_distance</th>\n",
       "      <th>pickup_zone</th>\n",
       "      <th>dropoff_zone</th>\n",
       "      <th>fare_amount</th>\n",
       "      <th>tip_amount</th>\n",
       "      <th>license</th>\n",
       "    </tr>\n",
       "  </thead>\n",
       "  <tbody>\n",
       "    <tr>\n",
       "      <th>0</th>\n",
       "      <td>2019-02-01 00:51:34</td>\n",
       "      <td>2019-02-01 01:28:29</td>\n",
       "      <td>5.01</td>\n",
       "      <td>261</td>\n",
       "      <td>234</td>\n",
       "      <td>44.96</td>\n",
       "      <td>0.0</td>\n",
       "      <td>HV0005</td>\n",
       "    </tr>\n",
       "    <tr>\n",
       "      <th>1</th>\n",
       "      <td>2019-02-01 00:03:51</td>\n",
       "      <td>2019-02-01 00:07:16</td>\n",
       "      <td>0.34</td>\n",
       "      <td>87</td>\n",
       "      <td>87</td>\n",
       "      <td>7.19</td>\n",
       "      <td>3.0</td>\n",
       "      <td>HV0005</td>\n",
       "    </tr>\n",
       "    <tr>\n",
       "      <th>2</th>\n",
       "      <td>2019-02-01 00:12:06</td>\n",
       "      <td>2019-02-01 00:42:13</td>\n",
       "      <td>4.53</td>\n",
       "      <td>161</td>\n",
       "      <td>148</td>\n",
       "      <td>16.39</td>\n",
       "      <td>0.0</td>\n",
       "      <td>HV0005</td>\n",
       "    </tr>\n",
       "    <tr>\n",
       "      <th>3</th>\n",
       "      <td>2019-02-01 00:01:11</td>\n",
       "      <td>2019-02-01 00:21:35</td>\n",
       "      <td>7.91</td>\n",
       "      <td>263</td>\n",
       "      <td>229</td>\n",
       "      <td>9.48</td>\n",
       "      <td>0.0</td>\n",
       "      <td>HV0003</td>\n",
       "    </tr>\n",
       "    <tr>\n",
       "      <th>4</th>\n",
       "      <td>2019-02-01 00:52:50</td>\n",
       "      <td>2019-02-01 00:56:02</td>\n",
       "      <td>0.37</td>\n",
       "      <td>234</td>\n",
       "      <td>137</td>\n",
       "      <td>7.81</td>\n",
       "      <td>0.0</td>\n",
       "      <td>HV0003</td>\n",
       "    </tr>\n",
       "  </tbody>\n",
       "</table>\n",
       "</div>"
      ],
      "text/plain": [
       "      pickup_datetime    dropoff_datetime  trip_distance  pickup_zone  \\\n",
       "0 2019-02-01 00:51:34 2019-02-01 01:28:29           5.01          261   \n",
       "1 2019-02-01 00:03:51 2019-02-01 00:07:16           0.34           87   \n",
       "2 2019-02-01 00:12:06 2019-02-01 00:42:13           4.53          161   \n",
       "3 2019-02-01 00:01:11 2019-02-01 00:21:35           7.91          263   \n",
       "4 2019-02-01 00:52:50 2019-02-01 00:56:02           0.37          234   \n",
       "\n",
       "   dropoff_zone  fare_amount  tip_amount license  \n",
       "0           234        44.96         0.0  HV0005  \n",
       "1            87         7.19         3.0  HV0005  \n",
       "2           148        16.39         0.0  HV0005  \n",
       "3           229         9.48         0.0  HV0003  \n",
       "4           137         7.81         0.0  HV0003  "
      ]
     },
     "execution_count": 7,
     "metadata": {},
     "output_type": "execute_result"
    }
   ],
   "source": [
    "df.head()"
   ]
  },
  {
   "cell_type": "code",
   "execution_count": 8,
   "metadata": {},
   "outputs": [],
   "source": [
    "zones_df = pd.read_csv(f\"../../taxi/taxi_zone_lookup.csv\")\n",
    "manhattan_zones = list(zones_df[zones_df.Borough == \"Manhattan\"].LocationID)"
   ]
  },
  {
   "cell_type": "code",
   "execution_count": 14,
   "metadata": {},
   "outputs": [
    {
     "data": {
      "text/plain": [
       "379.58"
      ]
     },
     "execution_count": 14,
     "metadata": {},
     "output_type": "execute_result"
    }
   ],
   "source": [
    "max(df[\"trip_distance\"])"
   ]
  },
  {
   "cell_type": "code",
   "execution_count": 19,
   "metadata": {},
   "outputs": [],
   "source": [
    "long_trip = df[df[\"trip_distance\"] >10]"
   ]
  },
  {
   "cell_type": "code",
   "execution_count": 20,
   "metadata": {},
   "outputs": [
    {
     "data": {
      "text/plain": [
       "(564646, 8)"
      ]
     },
     "execution_count": 20,
     "metadata": {},
     "output_type": "execute_result"
    }
   ],
   "source": [
    "long_trip.shape"
   ]
  },
  {
   "cell_type": "code",
   "execution_count": null,
   "metadata": {},
   "outputs": [],
   "source": []
  }
 ],
 "metadata": {
  "kernelspec": {
   "display_name": "edav_env",
   "language": "python",
   "name": "python3"
  },
  "language_info": {
   "codemirror_mode": {
    "name": "ipython",
    "version": 3
   },
   "file_extension": ".py",
   "mimetype": "text/x-python",
   "name": "python",
   "nbconvert_exporter": "python",
   "pygments_lexer": "ipython3",
   "version": "3.12.4"
  }
 },
 "nbformat": 4,
 "nbformat_minor": 2
}
