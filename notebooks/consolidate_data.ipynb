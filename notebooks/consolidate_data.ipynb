{
  "nbformat": 4,
  "nbformat_minor": 0,
  "metadata": {
    "colab": {
      "provenance": [],
      "authorship_tag": "ABX9TyPJNaohhYjtRtzztubSWmCS",
      "include_colab_link": true
    },
    "kernelspec": {
      "name": "python3",
      "display_name": "Python 3"
    },
    "language_info": {
      "name": "python"
    }
  },
  "cells": [
    {
      "cell_type": "markdown",
      "metadata": {
        "id": "view-in-github",
        "colab_type": "text"
      },
      "source": [
        "<a href=\"https://colab.research.google.com/github/sophiewagner7/its-too-nice-out-to-take-a-cab/blob/main/notebooks/consolidate_data.ipynb\" target=\"_parent\"><img src=\"https://colab.research.google.com/assets/colab-badge.svg\" alt=\"Open In Colab\"/></a>"
      ]
    },
    {
      "cell_type": "markdown",
      "source": [
        "# Consolidate Taxi and Weather Data\n",
        "\n",
        "Moacir P. de Sá Pereira\n",
        "\n",
        "This notebook builds a consolidated dataset featuring weather data and taxi data from New York. The taxi data are an hourly aggregation of yellow and Uber-like intra-Manhattan trips between 2019-01-01 and 2024-08-31. Additionally, we have limited the aggregation to trips of under two hours and under ten miles. The taxi data are preprocessed by https://github.com/sophiewagner7/its-too-nice-out-to-take-a-cab/blob/main/notebooks/pre_process_taxi_data.ipynb\n",
        "\n",
        "The weather data are hourly weather data collected from the KNYC0 weather station in Central Park, for a timespan similar to that of the taxi data. The data are preprocessed by https://github.com/sophiewagner7/its-too-nice-out-to-take-a-cab/blob/main/notebooks/pre_process_weather_data.ipynb\n",
        "\n",
        "This notebook limits the data to 2019-01-01 to 2024-06-25, to account for the extent of the weather data.\n",
        "\n",
        "It creates a blank dataframe that includes a row for each hour of each day of interest and then merges the weather and taxi data into that blank dataframe."
      ],
      "metadata": {
        "id": "YwaWYub-j3Hj"
      }
    },
    {
      "cell_type": "code",
      "execution_count": 1,
      "metadata": {
        "colab": {
          "base_uri": "https://localhost:8080/"
        },
        "id": "W6OnzUdq_2I0",
        "outputId": "449966b5-b064-4475-f500-b51ea98237cf"
      },
      "outputs": [
        {
          "output_type": "stream",
          "name": "stdout",
          "text": [
            "Mounted at /content/drive/\n"
          ]
        }
      ],
      "source": [
        "import pandas as pd\n",
        "import numpy as np\n",
        "from google.colab import drive\n",
        "\n",
        "drive.mount('/content/drive/')"
      ]
    },
    {
      "cell_type": "code",
      "source": [
        "start_datetime = '2019-01-01 00:00:00'\n",
        "end_datetime = '2024-06-25 23:00:00'\n",
        "\n",
        "date_hour_grid = pd.date_range(start=start_datetime, end=end_datetime, freq='h')\n",
        "merged_df = pd.DataFrame({'datetime': date_hour_grid})\n",
        "\n",
        "merged_df['date'] = merged_df['datetime'].dt.date\n",
        "merged_df['hour'] = merged_df['datetime'].dt.hour\n",
        "\n",
        "taxi_df = pd.read_parquet(\n",
        "  \"https://github.com/sophiewagner7/its-too-nice-out-to-take-a-cab/raw/refs/heads/main/data/taxi-data/complete_hourly.parquet\"\n",
        ")\n",
        "weather_df = pd.read_parquet(\n",
        "    \"https://github.com/sophiewagner7/its-too-nice-out-to-take-a-cab/raw/refs/heads/main/data/GHCNh/GHCNh_USW00094728_2019_to_2024.parquet\"\n",
        ")"
      ],
      "metadata": {
        "id": "XNPx9VE6BQCW"
      },
      "execution_count": 2,
      "outputs": []
    },
    {
      "cell_type": "code",
      "source": [
        "df = merged_df.merge(taxi_df, on=['date', 'hour'], how='left').merge(weather_df, on=['date', 'hour'], how='left')\n"
      ],
      "metadata": {
        "id": "XVOjvKZEFPKQ"
      },
      "execution_count": 3,
      "outputs": []
    },
    {
      "cell_type": "code",
      "source": [
        "df.to_parquet(\"complete_weather_and_taxi_data.parquet\")"
      ],
      "metadata": {
        "id": "G89QEy3GGZQW"
      },
      "execution_count": 4,
      "outputs": []
    },
    {
      "cell_type": "markdown",
      "source": [],
      "metadata": {
        "id": "Y_Gr4GUJj1uF"
      }
    }
  ]
}