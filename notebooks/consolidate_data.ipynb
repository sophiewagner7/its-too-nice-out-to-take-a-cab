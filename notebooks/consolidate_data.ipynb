{
  "nbformat": 4,
  "nbformat_minor": 0,
  "metadata": {
    "colab": {
      "provenance": [],
      "authorship_tag": "ABX9TyNc8AluabxHJ3/aoyR7uaR0",
      "include_colab_link": true
    },
    "kernelspec": {
      "name": "python3",
      "display_name": "Python 3"
    },
    "language_info": {
      "name": "python"
    }
  },
  "cells": [
    {
      "cell_type": "markdown",
      "metadata": {
        "id": "view-in-github",
        "colab_type": "text"
      },
      "source": [
        "<a href=\"https://colab.research.google.com/github/sophiewagner7/its-too-nice-out-to-take-a-cab/blob/main/notebooks/consolidate_data.ipynb\" target=\"_parent\"><img src=\"https://colab.research.google.com/assets/colab-badge.svg\" alt=\"Open In Colab\"/></a>"
      ]
    },
    {
      "cell_type": "markdown",
      "source": [
        "# Consolidate Taxi and Weather Data\n",
        "\n",
        "Moacir P. de Sá Pereira\n",
        "\n",
        "This notebook builds a consolidated dataset featuring weather data and taxi data from New York. The taxi data are an hourly aggregation of yellow and Uber-like intra-Manhattan trips between 2019-01-01 and 2024-08-31. Additionally, we have limited the aggregation to trips of under two hours and under ten miles. The taxi data are preprocessed by https://github.com/sophiewagner7/its-too-nice-out-to-take-a-cab/blob/main/notebooks/pre_process_taxi_data.ipynb\n",
        "\n",
        "The weather data are hourly weather data collected from the KNYC0 weather station in Central Park, for a timespan similar to that of the taxi data. The data are preprocessed by https://github.com/sophiewagner7/its-too-nice-out-to-take-a-cab/blob/main/notebooks/pre_process_weather_data.ipynb\n",
        "\n",
        "This notebook limits the data to 2019-01-01 to 2024-06-25, to account for the extent of the weather data.\n",
        "\n",
        "It creates a blank dataframe that includes a row for each hour of each day of interest and then merges the weather and taxi data into that blank dataframe."
      ],
      "metadata": {
        "id": "YwaWYub-j3Hj"
      }
    },
    {
      "cell_type": "code",
      "execution_count": 1,
      "metadata": {
        "colab": {
          "base_uri": "https://localhost:8080/"
        },
        "id": "W6OnzUdq_2I0",
        "outputId": "e6a3c1e7-46aa-4055-db26-4f603de318b1"
      },
      "outputs": [
        {
          "output_type": "stream",
          "name": "stdout",
          "text": [
            "Drive already mounted at /content/drive/; to attempt to forcibly remount, call drive.mount(\"/content/drive/\", force_remount=True).\n"
          ]
        }
      ],
      "source": [
        "import pandas as pd\n",
        "import numpy as np\n",
        "from google.colab import drive\n",
        "\n",
        "drive.mount('/content/drive/')"
      ]
    },
    {
      "cell_type": "code",
      "source": [
        "start_datetime = '2019-02-01 00:00:00'\n",
        "end_datetime = '2024-06-25 23:00:00'\n",
        "\n",
        "date_hour_grid = pd.date_range(start=start_datetime, end=end_datetime, freq='h')\n",
        "merged_df = pd.DataFrame({'datetime': date_hour_grid})\n",
        "\n",
        "merged_df['date'] = merged_df['datetime'].dt.date\n",
        "merged_df['hour'] = merged_df['datetime'].dt.hour\n",
        "merged_df[\"day_of_week\"] = merged_df.datetime.dt.day_of_week\n",
        "merged_df[\"month\"] = merged_df.datetime.dt.month\n",
        "merged_df[\"year\"] = merged_df.datetime.dt.year\n",
        "\n",
        "taxi_df = pd.read_parquet(\n",
        "  \"https://github.com/sophiewagner7/its-too-nice-out-to-take-a-cab/raw/refs/heads/main/data/taxi-data/complete_hourly.parquet\"\n",
        ")\n",
        "weather_df = pd.read_parquet(\n",
        "    \"https://github.com/sophiewagner7/its-too-nice-out-to-take-a-cab/raw/refs/heads/main/data/GHCNh/GHCNh_USW00094728_2019_to_2024.parquet\"\n",
        ")"
      ],
      "metadata": {
        "id": "XNPx9VE6BQCW"
      },
      "execution_count": 2,
      "outputs": []
    },
    {
      "cell_type": "code",
      "source": [
        "df = merged_df.merge(taxi_df, on=['date', 'hour'], how='left').merge(weather_df, on=['date', 'hour'], how='left')\n",
        "df.set_index('datetime', inplace=True)"
      ],
      "metadata": {
        "id": "XVOjvKZEFPKQ"
      },
      "execution_count": 3,
      "outputs": []
    },
    {
      "cell_type": "markdown",
      "source": [
        "## Handle NA Values"
      ],
      "metadata": {
        "id": "Y_Gr4GUJj1uF"
      }
    },
    {
      "cell_type": "code",
      "source": [
        "# Zero out company NAs\n",
        "for company in [\"uber\", \"yellow\", \"lyft\", \"juno\", \"via\"]:\n",
        "  df[company] = df[company].fillna(0)\n",
        "\n",
        "# Interpolate other taxi NAs\n",
        "for col in [\n",
        "    'trip_count', 'trip_duration_mean', 'trip_duration_median',\n",
        "       'trip_duration_std_dev', 'trip_duration_1Q', 'trip_duration_3Q',\n",
        "       'trip_distance_mean', 'trip_distance_median', 'trip_distance_std_dev',\n",
        "       'trip_distance_1Q', 'trip_distance_3Q', 'half_mile_trips',\n",
        "       'one_mile_trips', 'two_mile_trips', 'three_mile_trips',\n",
        "       'five_mile_trips'\n",
        "]:\n",
        "  df[col] = df[col].interpolate(method='linear', limit_direction='both')"
      ],
      "metadata": {
        "id": "0Uj9PZOsE2_6"
      },
      "execution_count": 4,
      "outputs": []
    },
    {
      "cell_type": "code",
      "source": [
        "# Zero out weather NAs\n",
        "for col in [\"wind_speed\", \"precipitation\", \"cloud_cover\"]:\n",
        "  df[col] = df[col].fillna(0)\n",
        "\n",
        "# Interpolate weather NAs\n",
        "for col in [\"temperature\", \"dew_point_temperature\", \"relative_humidity\"]:\n",
        "  df[col] = df[col].interpolate(method='linear', limit_direction='both')"
      ],
      "metadata": {
        "id": "4DTYr28K6EIz"
      },
      "execution_count": 5,
      "outputs": []
    },
    {
      "cell_type": "markdown",
      "source": [
        "## Calculate Weekly Taxi Delta Values"
      ],
      "metadata": {
        "id": "aagDwoGQ14ko"
      }
    },
    {
      "cell_type": "code",
      "source": [
        "def calculate_week_ago(row, col):\n",
        "    week_ago_time = row.name - pd.Timedelta(weeks=1) # row.name is the index\n",
        "    if week_ago_time in df.index:\n",
        "        return row[col] - df.loc[week_ago_time, col]\n",
        "    return None"
      ],
      "metadata": {
        "id": "nAiyMR4Nh9Ca"
      },
      "execution_count": 6,
      "outputs": []
    },
    {
      "cell_type": "code",
      "source": [
        "for column in [\n",
        "       'trip_count', 'trip_duration_mean', 'trip_duration_median',\n",
        "       'trip_duration_std_dev', 'trip_duration_1Q', 'trip_duration_3Q',\n",
        "       'trip_distance_mean', 'trip_distance_median', 'trip_distance_std_dev',\n",
        "       'trip_distance_1Q', 'trip_distance_3Q', 'half_mile_trips',\n",
        "       'one_mile_trips', 'two_mile_trips', 'three_mile_trips',\n",
        "       'five_mile_trips', 'juno', 'lyft', 'uber', 'via', 'yellow'\n",
        "    ]:\n",
        "    df[f\"{column}_change_since_prev_week\"] = df.apply(lambda row: calculate_week_ago(row, column), axis=1)"
      ],
      "metadata": {
        "id": "0S21ROku2II7"
      },
      "execution_count": 7,
      "outputs": []
    },
    {
      "cell_type": "markdown",
      "source": [
        "## Calculate Daily Temperature Delta Values"
      ],
      "metadata": {
        "id": "whtCKI3S2K0h"
      }
    },
    {
      "cell_type": "code",
      "source": [
        "def calculate_day_ago(row, col):\n",
        "    day_ago_time = row.name - pd.Timedelta(days=1) # row.name is the index\n",
        "    if day_ago_time in df.index:\n",
        "        return row[col] - df.loc[day_ago_time, col]\n",
        "    return None"
      ],
      "metadata": {
        "id": "jQ9exSRN2No5"
      },
      "execution_count": 8,
      "outputs": []
    },
    {
      "cell_type": "code",
      "source": [
        "for column in [\n",
        "    \"temperature\",\n",
        "    \"dew_point_temperature\",\n",
        "    \"wind_speed\",\n",
        "    \"precipitation\",\n",
        "    \"cloud_cover\",\n",
        "    \"relative_humidity\"\n",
        "    ]:\n",
        "    df[f\"{column}_change_since_prev_day\"] = df.apply(lambda row: calculate_day_ago(row, column), axis=1)"
      ],
      "metadata": {
        "id": "kajla5c82vqo"
      },
      "execution_count": 9,
      "outputs": []
    },
    {
      "cell_type": "code",
      "source": [
        "df.to_parquet(\"complete_weather_and_taxi_data.parquet\")"
      ],
      "metadata": {
        "id": "G89QEy3GGZQW"
      },
      "execution_count": 10,
      "outputs": []
    },
    {
      "cell_type": "code",
      "source": [],
      "metadata": {
        "id": "kiOMQtlhHDwk"
      },
      "execution_count": 10,
      "outputs": []
    }
  ]
}