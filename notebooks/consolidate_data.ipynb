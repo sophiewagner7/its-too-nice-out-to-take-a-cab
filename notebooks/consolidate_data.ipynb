{
  "nbformat": 4,
  "nbformat_minor": 0,
  "metadata": {
    "colab": {
      "provenance": [],
      "authorship_tag": "ABX9TyNcZhs5z7LPWFNmq2B29sLE",
      "include_colab_link": true
    },
    "kernelspec": {
      "name": "python3",
      "display_name": "Python 3"
    },
    "language_info": {
      "name": "python"
    }
  },
  "cells": [
    {
      "cell_type": "markdown",
      "metadata": {
        "id": "view-in-github",
        "colab_type": "text"
      },
      "source": [
        "<a href=\"https://colab.research.google.com/github/sophiewagner7/its-too-nice-out-to-take-a-cab/blob/main/notebooks/consolidate_data.ipynb\" target=\"_parent\"><img src=\"https://colab.research.google.com/assets/colab-badge.svg\" alt=\"Open In Colab\"/></a>"
      ]
    },
    {
      "cell_type": "markdown",
      "source": [
        "# Consolidate Taxi and Weather Data\n",
        "\n",
        "Moacir P. de Sá Pereira\n",
        "\n",
        "This notebook builds a consolidated dataset featuring weather data and taxi data from New York. The taxi data are an hourly aggregation of yellow and Uber-like intra-Manhattan trips between 2019-01-01 and 2024-08-31. Additionally, we have limited the aggregation to trips of under two hours and under ten miles. The taxi data are preprocessed by https://github.com/sophiewagner7/its-too-nice-out-to-take-a-cab/blob/main/notebooks/pre_process_taxi_data.ipynb\n",
        "\n",
        "The weather data are hourly weather data collected from the KNYC0 weather station in Central Park, for a timespan similar to that of the taxi data. The data are preprocessed by https://github.com/sophiewagner7/its-too-nice-out-to-take-a-cab/blob/main/notebooks/pre_process_weather_data.ipynb\n",
        "\n",
        "This notebook limits the data to 2019-01-01 to 2024-06-25, to account for the extent of the weather data.\n",
        "\n",
        "It creates a blank dataframe that includes a row for each hour of each day of interest and then merges the weather and taxi data into that blank dataframe."
      ],
      "metadata": {
        "id": "YwaWYub-j3Hj"
      }
    },
    {
      "cell_type": "code",
      "execution_count": 21,
      "metadata": {
        "colab": {
          "base_uri": "https://localhost:8080/"
        },
        "id": "W6OnzUdq_2I0",
        "outputId": "e06567a4-5a09-441e-88a7-b68b7ee3963f"
      },
      "outputs": [
        {
          "output_type": "stream",
          "name": "stdout",
          "text": [
            "Drive already mounted at /content/drive/; to attempt to forcibly remount, call drive.mount(\"/content/drive/\", force_remount=True).\n"
          ]
        }
      ],
      "source": [
        "import pandas as pd\n",
        "import numpy as np\n",
        "from google.colab import drive\n",
        "\n",
        "drive.mount('/content/drive/')"
      ]
    },
    {
      "cell_type": "code",
      "source": [
        "start_datetime = '2019-02-01 00:00:00'\n",
        "end_datetime = '2024-06-25 23:00:00'\n",
        "\n",
        "date_hour_grid = pd.date_range(start=start_datetime, end=end_datetime, freq='h')\n",
        "merged_df = pd.DataFrame({'datetime': date_hour_grid})\n",
        "\n",
        "merged_df['date'] = merged_df['datetime'].dt.date\n",
        "merged_df['hour'] = merged_df['datetime'].dt.hour\n",
        "merged_df[\"day_of_week\"] = merged_df.datetime.dt.day_of_week\n",
        "merged_df[\"month\"] = merged_df.datetime.dt.month\n",
        "merged_df[\"year\"] = merged_df.datetime.dt.year\n",
        "\n",
        "taxi_df = pd.read_parquet(\n",
        "  \"https://github.com/sophiewagner7/its-too-nice-out-to-take-a-cab/raw/refs/heads/main/data/taxi-data/complete_hourly.parquet\"\n",
        ")\n",
        "weather_df = pd.read_parquet(\n",
        "    \"https://github.com/sophiewagner7/its-too-nice-out-to-take-a-cab/raw/refs/heads/main/data/GHCNh/GHCNh_USW00094728_2019_to_2024.parquet\"\n",
        ")"
      ],
      "metadata": {
        "id": "XNPx9VE6BQCW"
      },
      "execution_count": 25,
      "outputs": []
    },
    {
      "cell_type": "code",
      "source": [
        "df = merged_df.merge(taxi_df, on=['date', 'hour'], how='left').merge(weather_df, on=['date', 'hour'], how='left')\n"
      ],
      "metadata": {
        "id": "XVOjvKZEFPKQ"
      },
      "execution_count": 26,
      "outputs": []
    },
    {
      "cell_type": "code",
      "source": [],
      "metadata": {
        "colab": {
          "base_uri": "https://localhost:8080/"
        },
        "id": "pO6GQbrPe3d9",
        "outputId": "1a4e32b1-1a4f-4494-c060-ad684c2a10eb"
      },
      "execution_count": 9,
      "outputs": [
        {
          "output_type": "execute_result",
          "data": {
            "text/plain": [
              "Index(['datetime', 'date', 'hour', 'trip_count', 'trip_duration_mean',\n",
              "       'trip_duration_median', 'trip_duration_std_dev', 'trip_duration_1Q',\n",
              "       'trip_duration_3Q', 'trip_distance_mean', 'trip_distance_median',\n",
              "       'trip_distance_std_dev', 'trip_distance_1Q', 'trip_distance_3Q',\n",
              "       'half_mile_trips', 'one_mile_trips', 'two_mile_trips',\n",
              "       'three_mile_trips', 'five_mile_trips', 'juno', 'lyft', 'uber', 'via',\n",
              "       'yellow', 'trip_duration_mean_change_since_prev_week',\n",
              "       'trip_duration_median_change_since_prev_week',\n",
              "       'trip_duration_std_dev_change_since_prev_week',\n",
              "       'trip_duration_1Q_change_since_prev_week',\n",
              "       'trip_duration_3Q_change_since_prev_week',\n",
              "       'trip_distance_mean_change_since_prev_week',\n",
              "       'trip_distance_median_change_since_prev_week',\n",
              "       'trip_distance_std_dev_change_since_prev_week',\n",
              "       'trip_distance_1Q_change_since_prev_week',\n",
              "       'trip_distance_3Q_change_since_prev_week',\n",
              "       'half_mile_trips_change_since_prev_week',\n",
              "       'one_mile_trips_change_since_prev_week',\n",
              "       'two_mile_trips_change_since_prev_week',\n",
              "       'three_mile_trips_change_since_prev_week',\n",
              "       'five_mile_trips_change_since_prev_week', 'day_of_week', 'temperature',\n",
              "       'dew_point_temperature', 'wind_speed', 'precipitation', 'cloud_cover',\n",
              "       'relative_humidity', 'remarks', 'temperature_change_since_prev_week',\n",
              "       'dew_point_temperature_change_since_prev_week',\n",
              "       'wind_speed_change_since_prev_week',\n",
              "       'precipitation_change_since_prev_week',\n",
              "       'cloud_cover_change_since_prev_week',\n",
              "       'relative_humidity_change_since_prev_week'],\n",
              "      dtype='object')"
            ]
          },
          "metadata": {},
          "execution_count": 9
        }
      ]
    },
    {
      "cell_type": "code",
      "source": [
        "df.to_parquet(\"complete_weather_and_taxi_data.parquet\")"
      ],
      "metadata": {
        "id": "G89QEy3GGZQW"
      },
      "execution_count": 27,
      "outputs": []
    },
    {
      "cell_type": "markdown",
      "source": [],
      "metadata": {
        "id": "Y_Gr4GUJj1uF"
      }
    },
    {
      "cell_type": "code",
      "source": [
        "df.columns"
      ],
      "metadata": {
        "colab": {
          "base_uri": "https://localhost:8080/"
        },
        "id": "HT8lQPKSfdXf",
        "outputId": "d8d4c248-9aed-4494-f9ea-b2b324cb96a0"
      },
      "execution_count": 20,
      "outputs": [
        {
          "output_type": "execute_result",
          "data": {
            "text/plain": [
              "Index(['datetime', 'date', 'hour', 'trip_count', 'trip_duration_mean',\n",
              "       'trip_duration_median', 'trip_duration_std_dev', 'trip_duration_1Q',\n",
              "       'trip_duration_3Q', 'trip_distance_mean', 'trip_distance_median',\n",
              "       'trip_distance_std_dev', 'trip_distance_1Q', 'trip_distance_3Q',\n",
              "       'half_mile_trips', 'one_mile_trips', 'two_mile_trips',\n",
              "       'three_mile_trips', 'five_mile_trips', 'juno', 'lyft', 'uber', 'via',\n",
              "       'yellow', 'trip_duration_mean_change_since_prev_week',\n",
              "       'trip_duration_median_change_since_prev_week',\n",
              "       'trip_duration_std_dev_change_since_prev_week',\n",
              "       'trip_duration_1Q_change_since_prev_week',\n",
              "       'trip_duration_3Q_change_since_prev_week',\n",
              "       'trip_distance_mean_change_since_prev_week',\n",
              "       'trip_distance_median_change_since_prev_week',\n",
              "       'trip_distance_std_dev_change_since_prev_week',\n",
              "       'trip_distance_1Q_change_since_prev_week',\n",
              "       'trip_distance_3Q_change_since_prev_week',\n",
              "       'half_mile_trips_change_since_prev_week',\n",
              "       'one_mile_trips_change_since_prev_week',\n",
              "       'two_mile_trips_change_since_prev_week',\n",
              "       'three_mile_trips_change_since_prev_week',\n",
              "       'five_mile_trips_change_since_prev_week', 'day_of_week', 'temperature',\n",
              "       'dew_point_temperature', 'wind_speed', 'precipitation', 'cloud_cover',\n",
              "       'relative_humidity', 'remarks', 'temperature_change_since_prev_week',\n",
              "       'dew_point_temperature_change_since_prev_week',\n",
              "       'wind_speed_change_since_prev_week',\n",
              "       'precipitation_change_since_prev_week',\n",
              "       'cloud_cover_change_since_prev_week',\n",
              "       'relative_humidity_change_since_prev_week'],\n",
              "      dtype='object')"
            ]
          },
          "metadata": {},
          "execution_count": 20
        }
      ]
    },
    {
      "cell_type": "code",
      "source": [
        "len(df)"
      ],
      "metadata": {
        "colab": {
          "base_uri": "https://localhost:8080/"
        },
        "id": "ulNpZDTSfdxd",
        "outputId": "36ac34a4-bda0-401f-d8f2-0e7dcac09139"
      },
      "execution_count": 6,
      "outputs": [
        {
          "output_type": "execute_result",
          "data": {
            "text/plain": [
              "47328"
            ]
          },
          "metadata": {},
          "execution_count": 6
        }
      ]
    },
    {
      "cell_type": "code",
      "source": [
        "len(df[df.remarks.str.contains(\"SN\")])"
      ],
      "metadata": {
        "colab": {
          "base_uri": "https://localhost:8080/"
        },
        "id": "XZ6CZ5RrfoOs",
        "outputId": "c5eca3e8-1e5a-45c4-d60a-fed4b31a36c8"
      },
      "execution_count": 13,
      "outputs": [
        {
          "output_type": "execute_result",
          "data": {
            "text/plain": [
              "512"
            ]
          },
          "metadata": {},
          "execution_count": 13
        }
      ]
    },
    {
      "cell_type": "code",
      "source": [
        "print(df.date.min(), df.date.max())"
      ],
      "metadata": {
        "colab": {
          "base_uri": "https://localhost:8080/"
        },
        "id": "ua-zxOwLftED",
        "outputId": "d632487e-fabe-4710-9e37-b11ef16f0e69"
      },
      "execution_count": 16,
      "outputs": [
        {
          "output_type": "stream",
          "name": "stdout",
          "text": [
            "2019-02-01 2024-06-25\n"
          ]
        }
      ]
    },
    {
      "cell_type": "code",
      "source": [
        "print(len(df[df.remarks.str.contains(\"SN\")])/len(df))"
      ],
      "metadata": {
        "colab": {
          "base_uri": "https://localhost:8080/"
        },
        "id": "gWM8UwligfeM",
        "outputId": "2d7cb0cb-f433-4b28-f99c-c6530c29c1de"
      },
      "execution_count": 17,
      "outputs": [
        {
          "output_type": "stream",
          "name": "stdout",
          "text": [
            "0.010818120351588911\n"
          ]
        }
      ]
    },
    {
      "cell_type": "code",
      "source": [
        "print(len(df[df.remarks.str.contains(\"RN\")])/len(df))"
      ],
      "metadata": {
        "colab": {
          "base_uri": "https://localhost:8080/"
        },
        "id": "6KXUcpAogwsl",
        "outputId": "645a96d0-d7f4-4019-e9ae-3f85c8c5505f"
      },
      "execution_count": 18,
      "outputs": [
        {
          "output_type": "stream",
          "name": "stdout",
          "text": [
            "6.338742393509128e-05\n"
          ]
        }
      ]
    },
    {
      "cell_type": "code",
      "source": [
        "len(df[df.remarks.str.contains(\"RN\")])"
      ],
      "metadata": {
        "colab": {
          "base_uri": "https://localhost:8080/"
        },
        "id": "uIeTXy7Jh2vh",
        "outputId": "9726573b-6be7-4161-aff3-c38e84f1afba"
      },
      "execution_count": 19,
      "outputs": [
        {
          "output_type": "execute_result",
          "data": {
            "text/plain": [
              "3"
            ]
          },
          "metadata": {},
          "execution_count": 19
        }
      ]
    },
    {
      "cell_type": "code",
      "source": [],
      "metadata": {
        "id": "nAiyMR4Nh9Ca"
      },
      "execution_count": null,
      "outputs": []
    }
  ]
}