{
  "nbformat": 4,
  "nbformat_minor": 0,
  "metadata": {
    "colab": {
      "provenance": [],
      "machine_shape": "hm",
      "authorship_tag": "ABX9TyN46Eo2l1DIm3wVge9yFmbY",
      "include_colab_link": true
    },
    "kernelspec": {
      "name": "python3",
      "display_name": "Python 3"
    },
    "language_info": {
      "name": "python"
    },
    "widgets": {
      "application/vnd.jupyter.widget-state+json": {
        "436a11b6ffb742f4ac7752352ecb27d6": {
          "model_module": "@jupyter-widgets/controls",
          "model_name": "HBoxModel",
          "model_module_version": "1.5.0",
          "state": {
            "_dom_classes": [],
            "_model_module": "@jupyter-widgets/controls",
            "_model_module_version": "1.5.0",
            "_model_name": "HBoxModel",
            "_view_count": null,
            "_view_module": "@jupyter-widgets/controls",
            "_view_module_version": "1.5.0",
            "_view_name": "HBoxView",
            "box_style": "",
            "children": [
              "IPY_MODEL_2304748c726d4352bc1203a659abf24f",
              "IPY_MODEL_72bed3bf6712484aa11866a5ff97bf73",
              "IPY_MODEL_6221b47ef11a47f99831384a63f45ada"
            ],
            "layout": "IPY_MODEL_1f9c660d2d5e45cf872e4ac9e9893fb8"
          }
        },
        "2304748c726d4352bc1203a659abf24f": {
          "model_module": "@jupyter-widgets/controls",
          "model_name": "HTMLModel",
          "model_module_version": "1.5.0",
          "state": {
            "_dom_classes": [],
            "_model_module": "@jupyter-widgets/controls",
            "_model_module_version": "1.5.0",
            "_model_name": "HTMLModel",
            "_view_count": null,
            "_view_module": "@jupyter-widgets/controls",
            "_view_module_version": "1.5.0",
            "_view_name": "HTMLView",
            "description": "",
            "description_tooltip": null,
            "layout": "IPY_MODEL_a98748bc75214f50aaa42ea85977c7bf",
            "placeholder": "​",
            "style": "IPY_MODEL_5c8316986d0a48eba1374c15842a4e70",
            "value": "100%"
          }
        },
        "72bed3bf6712484aa11866a5ff97bf73": {
          "model_module": "@jupyter-widgets/controls",
          "model_name": "FloatProgressModel",
          "model_module_version": "1.5.0",
          "state": {
            "_dom_classes": [],
            "_model_module": "@jupyter-widgets/controls",
            "_model_module_version": "1.5.0",
            "_model_name": "FloatProgressModel",
            "_view_count": null,
            "_view_module": "@jupyter-widgets/controls",
            "_view_module_version": "1.5.0",
            "_view_name": "ProgressView",
            "bar_style": "success",
            "description": "",
            "description_tooltip": null,
            "layout": "IPY_MODEL_2b2fe58a0ca546ce93ab04631c277fa9",
            "max": 6,
            "min": 0,
            "orientation": "horizontal",
            "style": "IPY_MODEL_5603a2e3e93d4367a47a63b2af0de47a",
            "value": 6
          }
        },
        "6221b47ef11a47f99831384a63f45ada": {
          "model_module": "@jupyter-widgets/controls",
          "model_name": "HTMLModel",
          "model_module_version": "1.5.0",
          "state": {
            "_dom_classes": [],
            "_model_module": "@jupyter-widgets/controls",
            "_model_module_version": "1.5.0",
            "_model_name": "HTMLModel",
            "_view_count": null,
            "_view_module": "@jupyter-widgets/controls",
            "_view_module_version": "1.5.0",
            "_view_name": "HTMLView",
            "description": "",
            "description_tooltip": null,
            "layout": "IPY_MODEL_02bfbcf82ebd4ff387f7a83ffd753e40",
            "placeholder": "​",
            "style": "IPY_MODEL_bd8af8b402734096985bdb371565af51",
            "value": " 6/6 [13:23&lt;00:00, 124.68s/it]"
          }
        },
        "1f9c660d2d5e45cf872e4ac9e9893fb8": {
          "model_module": "@jupyter-widgets/base",
          "model_name": "LayoutModel",
          "model_module_version": "1.2.0",
          "state": {
            "_model_module": "@jupyter-widgets/base",
            "_model_module_version": "1.2.0",
            "_model_name": "LayoutModel",
            "_view_count": null,
            "_view_module": "@jupyter-widgets/base",
            "_view_module_version": "1.2.0",
            "_view_name": "LayoutView",
            "align_content": null,
            "align_items": null,
            "align_self": null,
            "border": null,
            "bottom": null,
            "display": null,
            "flex": null,
            "flex_flow": null,
            "grid_area": null,
            "grid_auto_columns": null,
            "grid_auto_flow": null,
            "grid_auto_rows": null,
            "grid_column": null,
            "grid_gap": null,
            "grid_row": null,
            "grid_template_areas": null,
            "grid_template_columns": null,
            "grid_template_rows": null,
            "height": null,
            "justify_content": null,
            "justify_items": null,
            "left": null,
            "margin": null,
            "max_height": null,
            "max_width": null,
            "min_height": null,
            "min_width": null,
            "object_fit": null,
            "object_position": null,
            "order": null,
            "overflow": null,
            "overflow_x": null,
            "overflow_y": null,
            "padding": null,
            "right": null,
            "top": null,
            "visibility": null,
            "width": null
          }
        },
        "a98748bc75214f50aaa42ea85977c7bf": {
          "model_module": "@jupyter-widgets/base",
          "model_name": "LayoutModel",
          "model_module_version": "1.2.0",
          "state": {
            "_model_module": "@jupyter-widgets/base",
            "_model_module_version": "1.2.0",
            "_model_name": "LayoutModel",
            "_view_count": null,
            "_view_module": "@jupyter-widgets/base",
            "_view_module_version": "1.2.0",
            "_view_name": "LayoutView",
            "align_content": null,
            "align_items": null,
            "align_self": null,
            "border": null,
            "bottom": null,
            "display": null,
            "flex": null,
            "flex_flow": null,
            "grid_area": null,
            "grid_auto_columns": null,
            "grid_auto_flow": null,
            "grid_auto_rows": null,
            "grid_column": null,
            "grid_gap": null,
            "grid_row": null,
            "grid_template_areas": null,
            "grid_template_columns": null,
            "grid_template_rows": null,
            "height": null,
            "justify_content": null,
            "justify_items": null,
            "left": null,
            "margin": null,
            "max_height": null,
            "max_width": null,
            "min_height": null,
            "min_width": null,
            "object_fit": null,
            "object_position": null,
            "order": null,
            "overflow": null,
            "overflow_x": null,
            "overflow_y": null,
            "padding": null,
            "right": null,
            "top": null,
            "visibility": null,
            "width": null
          }
        },
        "5c8316986d0a48eba1374c15842a4e70": {
          "model_module": "@jupyter-widgets/controls",
          "model_name": "DescriptionStyleModel",
          "model_module_version": "1.5.0",
          "state": {
            "_model_module": "@jupyter-widgets/controls",
            "_model_module_version": "1.5.0",
            "_model_name": "DescriptionStyleModel",
            "_view_count": null,
            "_view_module": "@jupyter-widgets/base",
            "_view_module_version": "1.2.0",
            "_view_name": "StyleView",
            "description_width": ""
          }
        },
        "2b2fe58a0ca546ce93ab04631c277fa9": {
          "model_module": "@jupyter-widgets/base",
          "model_name": "LayoutModel",
          "model_module_version": "1.2.0",
          "state": {
            "_model_module": "@jupyter-widgets/base",
            "_model_module_version": "1.2.0",
            "_model_name": "LayoutModel",
            "_view_count": null,
            "_view_module": "@jupyter-widgets/base",
            "_view_module_version": "1.2.0",
            "_view_name": "LayoutView",
            "align_content": null,
            "align_items": null,
            "align_self": null,
            "border": null,
            "bottom": null,
            "display": null,
            "flex": null,
            "flex_flow": null,
            "grid_area": null,
            "grid_auto_columns": null,
            "grid_auto_flow": null,
            "grid_auto_rows": null,
            "grid_column": null,
            "grid_gap": null,
            "grid_row": null,
            "grid_template_areas": null,
            "grid_template_columns": null,
            "grid_template_rows": null,
            "height": null,
            "justify_content": null,
            "justify_items": null,
            "left": null,
            "margin": null,
            "max_height": null,
            "max_width": null,
            "min_height": null,
            "min_width": null,
            "object_fit": null,
            "object_position": null,
            "order": null,
            "overflow": null,
            "overflow_x": null,
            "overflow_y": null,
            "padding": null,
            "right": null,
            "top": null,
            "visibility": null,
            "width": null
          }
        },
        "5603a2e3e93d4367a47a63b2af0de47a": {
          "model_module": "@jupyter-widgets/controls",
          "model_name": "ProgressStyleModel",
          "model_module_version": "1.5.0",
          "state": {
            "_model_module": "@jupyter-widgets/controls",
            "_model_module_version": "1.5.0",
            "_model_name": "ProgressStyleModel",
            "_view_count": null,
            "_view_module": "@jupyter-widgets/base",
            "_view_module_version": "1.2.0",
            "_view_name": "StyleView",
            "bar_color": null,
            "description_width": ""
          }
        },
        "02bfbcf82ebd4ff387f7a83ffd753e40": {
          "model_module": "@jupyter-widgets/base",
          "model_name": "LayoutModel",
          "model_module_version": "1.2.0",
          "state": {
            "_model_module": "@jupyter-widgets/base",
            "_model_module_version": "1.2.0",
            "_model_name": "LayoutModel",
            "_view_count": null,
            "_view_module": "@jupyter-widgets/base",
            "_view_module_version": "1.2.0",
            "_view_name": "LayoutView",
            "align_content": null,
            "align_items": null,
            "align_self": null,
            "border": null,
            "bottom": null,
            "display": null,
            "flex": null,
            "flex_flow": null,
            "grid_area": null,
            "grid_auto_columns": null,
            "grid_auto_flow": null,
            "grid_auto_rows": null,
            "grid_column": null,
            "grid_gap": null,
            "grid_row": null,
            "grid_template_areas": null,
            "grid_template_columns": null,
            "grid_template_rows": null,
            "height": null,
            "justify_content": null,
            "justify_items": null,
            "left": null,
            "margin": null,
            "max_height": null,
            "max_width": null,
            "min_height": null,
            "min_width": null,
            "object_fit": null,
            "object_position": null,
            "order": null,
            "overflow": null,
            "overflow_x": null,
            "overflow_y": null,
            "padding": null,
            "right": null,
            "top": null,
            "visibility": null,
            "width": null
          }
        },
        "bd8af8b402734096985bdb371565af51": {
          "model_module": "@jupyter-widgets/controls",
          "model_name": "DescriptionStyleModel",
          "model_module_version": "1.5.0",
          "state": {
            "_model_module": "@jupyter-widgets/controls",
            "_model_module_version": "1.5.0",
            "_model_name": "DescriptionStyleModel",
            "_view_count": null,
            "_view_module": "@jupyter-widgets/base",
            "_view_module_version": "1.2.0",
            "_view_name": "StyleView",
            "description_width": ""
          }
        },
        "c386df05cdf4469195075a163276c2ad": {
          "model_module": "@jupyter-widgets/controls",
          "model_name": "HBoxModel",
          "model_module_version": "1.5.0",
          "state": {
            "_dom_classes": [],
            "_model_module": "@jupyter-widgets/controls",
            "_model_module_version": "1.5.0",
            "_model_name": "HBoxModel",
            "_view_count": null,
            "_view_module": "@jupyter-widgets/controls",
            "_view_module_version": "1.5.0",
            "_view_name": "HBoxView",
            "box_style": "",
            "children": [
              "IPY_MODEL_bf457e37026a4cc9ada56131bdfd47d0",
              "IPY_MODEL_71974862b7f0496eb65cd4252efaf4a9",
              "IPY_MODEL_b3335c566e1e41a3936988ddd7679024"
            ],
            "layout": "IPY_MODEL_fab9af3bd42c4939909cd55646b15c32"
          }
        },
        "bf457e37026a4cc9ada56131bdfd47d0": {
          "model_module": "@jupyter-widgets/controls",
          "model_name": "HTMLModel",
          "model_module_version": "1.5.0",
          "state": {
            "_dom_classes": [],
            "_model_module": "@jupyter-widgets/controls",
            "_model_module_version": "1.5.0",
            "_model_name": "HTMLModel",
            "_view_count": null,
            "_view_module": "@jupyter-widgets/controls",
            "_view_module_version": "1.5.0",
            "_view_name": "HTMLView",
            "description": "",
            "description_tooltip": null,
            "layout": "IPY_MODEL_5aecf4cd12794473b9f577adfc50a487",
            "placeholder": "​",
            "style": "IPY_MODEL_52205d5b8cf146f4985d66e0eb166b31",
            "value": "100%"
          }
        },
        "71974862b7f0496eb65cd4252efaf4a9": {
          "model_module": "@jupyter-widgets/controls",
          "model_name": "FloatProgressModel",
          "model_module_version": "1.5.0",
          "state": {
            "_dom_classes": [],
            "_model_module": "@jupyter-widgets/controls",
            "_model_module_version": "1.5.0",
            "_model_name": "FloatProgressModel",
            "_view_count": null,
            "_view_module": "@jupyter-widgets/controls",
            "_view_module_version": "1.5.0",
            "_view_name": "ProgressView",
            "bar_style": "success",
            "description": "",
            "description_tooltip": null,
            "layout": "IPY_MODEL_9903460d16ed4799bb48b97b78354290",
            "max": 6,
            "min": 0,
            "orientation": "horizontal",
            "style": "IPY_MODEL_0b172ffa64a9404f9be9ea43eb5c53b2",
            "value": 6
          }
        },
        "b3335c566e1e41a3936988ddd7679024": {
          "model_module": "@jupyter-widgets/controls",
          "model_name": "HTMLModel",
          "model_module_version": "1.5.0",
          "state": {
            "_dom_classes": [],
            "_model_module": "@jupyter-widgets/controls",
            "_model_module_version": "1.5.0",
            "_model_name": "HTMLModel",
            "_view_count": null,
            "_view_module": "@jupyter-widgets/controls",
            "_view_module_version": "1.5.0",
            "_view_name": "HTMLView",
            "description": "",
            "description_tooltip": null,
            "layout": "IPY_MODEL_ec9e8ffe47b54415be977558863df2e6",
            "placeholder": "​",
            "style": "IPY_MODEL_5c601f3944484e1a9293ba2e457b1aed",
            "value": " 6/6 [00:00&lt;00:00, 84.04it/s]"
          }
        },
        "fab9af3bd42c4939909cd55646b15c32": {
          "model_module": "@jupyter-widgets/base",
          "model_name": "LayoutModel",
          "model_module_version": "1.2.0",
          "state": {
            "_model_module": "@jupyter-widgets/base",
            "_model_module_version": "1.2.0",
            "_model_name": "LayoutModel",
            "_view_count": null,
            "_view_module": "@jupyter-widgets/base",
            "_view_module_version": "1.2.0",
            "_view_name": "LayoutView",
            "align_content": null,
            "align_items": null,
            "align_self": null,
            "border": null,
            "bottom": null,
            "display": null,
            "flex": null,
            "flex_flow": null,
            "grid_area": null,
            "grid_auto_columns": null,
            "grid_auto_flow": null,
            "grid_auto_rows": null,
            "grid_column": null,
            "grid_gap": null,
            "grid_row": null,
            "grid_template_areas": null,
            "grid_template_columns": null,
            "grid_template_rows": null,
            "height": null,
            "justify_content": null,
            "justify_items": null,
            "left": null,
            "margin": null,
            "max_height": null,
            "max_width": null,
            "min_height": null,
            "min_width": null,
            "object_fit": null,
            "object_position": null,
            "order": null,
            "overflow": null,
            "overflow_x": null,
            "overflow_y": null,
            "padding": null,
            "right": null,
            "top": null,
            "visibility": null,
            "width": null
          }
        },
        "5aecf4cd12794473b9f577adfc50a487": {
          "model_module": "@jupyter-widgets/base",
          "model_name": "LayoutModel",
          "model_module_version": "1.2.0",
          "state": {
            "_model_module": "@jupyter-widgets/base",
            "_model_module_version": "1.2.0",
            "_model_name": "LayoutModel",
            "_view_count": null,
            "_view_module": "@jupyter-widgets/base",
            "_view_module_version": "1.2.0",
            "_view_name": "LayoutView",
            "align_content": null,
            "align_items": null,
            "align_self": null,
            "border": null,
            "bottom": null,
            "display": null,
            "flex": null,
            "flex_flow": null,
            "grid_area": null,
            "grid_auto_columns": null,
            "grid_auto_flow": null,
            "grid_auto_rows": null,
            "grid_column": null,
            "grid_gap": null,
            "grid_row": null,
            "grid_template_areas": null,
            "grid_template_columns": null,
            "grid_template_rows": null,
            "height": null,
            "justify_content": null,
            "justify_items": null,
            "left": null,
            "margin": null,
            "max_height": null,
            "max_width": null,
            "min_height": null,
            "min_width": null,
            "object_fit": null,
            "object_position": null,
            "order": null,
            "overflow": null,
            "overflow_x": null,
            "overflow_y": null,
            "padding": null,
            "right": null,
            "top": null,
            "visibility": null,
            "width": null
          }
        },
        "52205d5b8cf146f4985d66e0eb166b31": {
          "model_module": "@jupyter-widgets/controls",
          "model_name": "DescriptionStyleModel",
          "model_module_version": "1.5.0",
          "state": {
            "_model_module": "@jupyter-widgets/controls",
            "_model_module_version": "1.5.0",
            "_model_name": "DescriptionStyleModel",
            "_view_count": null,
            "_view_module": "@jupyter-widgets/base",
            "_view_module_version": "1.2.0",
            "_view_name": "StyleView",
            "description_width": ""
          }
        },
        "9903460d16ed4799bb48b97b78354290": {
          "model_module": "@jupyter-widgets/base",
          "model_name": "LayoutModel",
          "model_module_version": "1.2.0",
          "state": {
            "_model_module": "@jupyter-widgets/base",
            "_model_module_version": "1.2.0",
            "_model_name": "LayoutModel",
            "_view_count": null,
            "_view_module": "@jupyter-widgets/base",
            "_view_module_version": "1.2.0",
            "_view_name": "LayoutView",
            "align_content": null,
            "align_items": null,
            "align_self": null,
            "border": null,
            "bottom": null,
            "display": null,
            "flex": null,
            "flex_flow": null,
            "grid_area": null,
            "grid_auto_columns": null,
            "grid_auto_flow": null,
            "grid_auto_rows": null,
            "grid_column": null,
            "grid_gap": null,
            "grid_row": null,
            "grid_template_areas": null,
            "grid_template_columns": null,
            "grid_template_rows": null,
            "height": null,
            "justify_content": null,
            "justify_items": null,
            "left": null,
            "margin": null,
            "max_height": null,
            "max_width": null,
            "min_height": null,
            "min_width": null,
            "object_fit": null,
            "object_position": null,
            "order": null,
            "overflow": null,
            "overflow_x": null,
            "overflow_y": null,
            "padding": null,
            "right": null,
            "top": null,
            "visibility": null,
            "width": null
          }
        },
        "0b172ffa64a9404f9be9ea43eb5c53b2": {
          "model_module": "@jupyter-widgets/controls",
          "model_name": "ProgressStyleModel",
          "model_module_version": "1.5.0",
          "state": {
            "_model_module": "@jupyter-widgets/controls",
            "_model_module_version": "1.5.0",
            "_model_name": "ProgressStyleModel",
            "_view_count": null,
            "_view_module": "@jupyter-widgets/base",
            "_view_module_version": "1.2.0",
            "_view_name": "StyleView",
            "bar_color": null,
            "description_width": ""
          }
        },
        "ec9e8ffe47b54415be977558863df2e6": {
          "model_module": "@jupyter-widgets/base",
          "model_name": "LayoutModel",
          "model_module_version": "1.2.0",
          "state": {
            "_model_module": "@jupyter-widgets/base",
            "_model_module_version": "1.2.0",
            "_model_name": "LayoutModel",
            "_view_count": null,
            "_view_module": "@jupyter-widgets/base",
            "_view_module_version": "1.2.0",
            "_view_name": "LayoutView",
            "align_content": null,
            "align_items": null,
            "align_self": null,
            "border": null,
            "bottom": null,
            "display": null,
            "flex": null,
            "flex_flow": null,
            "grid_area": null,
            "grid_auto_columns": null,
            "grid_auto_flow": null,
            "grid_auto_rows": null,
            "grid_column": null,
            "grid_gap": null,
            "grid_row": null,
            "grid_template_areas": null,
            "grid_template_columns": null,
            "grid_template_rows": null,
            "height": null,
            "justify_content": null,
            "justify_items": null,
            "left": null,
            "margin": null,
            "max_height": null,
            "max_width": null,
            "min_height": null,
            "min_width": null,
            "object_fit": null,
            "object_position": null,
            "order": null,
            "overflow": null,
            "overflow_x": null,
            "overflow_y": null,
            "padding": null,
            "right": null,
            "top": null,
            "visibility": null,
            "width": null
          }
        },
        "5c601f3944484e1a9293ba2e457b1aed": {
          "model_module": "@jupyter-widgets/controls",
          "model_name": "DescriptionStyleModel",
          "model_module_version": "1.5.0",
          "state": {
            "_model_module": "@jupyter-widgets/controls",
            "_model_module_version": "1.5.0",
            "_model_name": "DescriptionStyleModel",
            "_view_count": null,
            "_view_module": "@jupyter-widgets/base",
            "_view_module_version": "1.2.0",
            "_view_name": "StyleView",
            "description_width": ""
          }
        }
      }
    }
  },
  "cells": [
    {
      "cell_type": "markdown",
      "metadata": {
        "id": "view-in-github",
        "colab_type": "text"
      },
      "source": [
        "<a href=\"https://colab.research.google.com/github/sophiewagner7/its-too-nice-out-to-take-a-cab/blob/main/notebook/pre_process_taxi_data.ipynb\" target=\"_parent\"><img src=\"https://colab.research.google.com/assets/colab-badge.svg\" alt=\"Open In Colab\"/></a>"
      ]
    },
    {
      "cell_type": "markdown",
      "source": [
        "# Process Taxi Data\n",
        "\n",
        "Moacir P. de Sá Pereira\n",
        "\n",
        "This notebook reduces the size of our yellow taxi and high-volume for-hire vehicle (Uber, Lyft) data, downloaded from the [Taxi and Limousine Commission](https://www.nyc.gov/site/tlc/about/tlc-trip-record-data.page). We drop columns that will not be important to us, rename the columns so that both yellow cab and FHVHV data will have the same column names, save `license`, which indicates which company operates the FHVHV trip in question. The codes convert to companies like this:\n",
        "\n",
        "Code | Company\n",
        "----|----\n",
        "HV0002|Juno\n",
        "HV0003|Uber\n",
        "HV0004|Via\n",
        "HV0005|Lyft\n",
        "\n",
        "Additionally, we use the taxi zone lookup table to reduce our trip data only to trips that originate and terminate in Manhattan. This has a substantial effect on the FHVHV data, but little effect on the yellow cab data.\n",
        "\n",
        "The files are then saved as parquet files in a `processed_files` folder.\n",
        "\n",
        "Next, the processed files are concatenated to make yearly files, saved in `concatenated_files`."
      ],
      "metadata": {
        "id": "1CC2WrR0Drck"
      }
    },
    {
      "cell_type": "markdown",
      "source": [
        "## Imports"
      ],
      "metadata": {
        "id": "n0TfTMSRXg63"
      }
    },
    {
      "cell_type": "code",
      "execution_count": 2,
      "metadata": {
        "id": "ER18E9LRgFd1",
        "colab": {
          "base_uri": "https://localhost:8080/"
        },
        "outputId": "e213b5b4-9776-435b-81c9-c9ad318b3d21"
      },
      "outputs": [
        {
          "output_type": "stream",
          "name": "stdout",
          "text": [
            "Mounted at /content/drive/\n"
          ]
        }
      ],
      "source": [
        "import pandas as pd\n",
        "import numpy as np\n",
        "from tqdm.notebook import tqdm\n",
        "from google.colab import drive\n",
        "\n",
        "drive.mount('/content/drive/')"
      ]
    },
    {
      "cell_type": "markdown",
      "source": [
        "## Set Constants"
      ],
      "metadata": {
        "id": "aAXQ8xqYXloB"
      }
    },
    {
      "cell_type": "code",
      "source": [
        "root_path = \"./drive/MyDrive/taxi-data\"\n",
        "\n",
        "zones_df = pd.read_csv(f\"{root_path}/taxi_zone_lookup.csv\")\n",
        "manhattan_zones = list(zones_df[zones_df.Borough == \"Manhattan\"].LocationID)\n",
        "\n",
        "yellow_columns_to_keep = {\n",
        "    \"tpep_pickup_datetime\": \"pickup_datetime\",\n",
        "    \"tpep_dropoff_datetime\": \"dropoff_datetime\",\n",
        "    \"trip_distance\": \"trip_distance\",\n",
        "    \"PULocationID\": \"pickup_zone\",\n",
        "    \"DOLocationID\": \"dropoff_zone\",\n",
        "    \"fare_amount\": \"fare_amount\",\n",
        "    \"tip_amount\": \"tip_amount\"\n",
        "}\n",
        "\n",
        "fhvhv_columns_to_keep = {\n",
        "    \"pickup_datetime\": \"pickup_datetime\",\n",
        "    \"dropoff_datetime\": \"dropoff_datetime\",\n",
        "    \"trip_miles\": \"trip_distance\",\n",
        "    \"PULocationID\": \"pickup_zone\",\n",
        "    \"DOLocationID\": \"dropoff_zone\",\n",
        "    \"base_passenger_fare\": \"fare_amount\",\n",
        "    \"tips\": \"tip_amount\",\n",
        "    \"hvfhs_license_num\": \"license\",\n",
        "}\n",
        "\n",
        "license_relabel = {\n",
        "    \"yellow\": \"yellow\",\n",
        "    \"HV0002\": \"juno\",\n",
        "    \"HV0003\": \"uber\",\n",
        "    \"HV0004\": \"via\",\n",
        "    \"HV0005\": \"lyft\"\n",
        "}"
      ],
      "metadata": {
        "id": "B5cyBHFigMqi"
      },
      "execution_count": 3,
      "outputs": []
    },
    {
      "cell_type": "markdown",
      "source": [
        "## Pre-Processing Functions"
      ],
      "metadata": {
        "id": "0fQ-2jOFYCRA"
      }
    },
    {
      "cell_type": "code",
      "source": [
        "def process_file(trip = \"fhvhv\", file_name = \"fhvhv_tripdata_2021-05.parquet\"):\n",
        "  path = f\"{root_path}/original_files/{file_name}\"\n",
        "  if trip == \"yellow\":\n",
        "    columns = yellow_columns_to_keep\n",
        "  else:\n",
        "    columns = fhvhv_columns_to_keep\n",
        "  df = pd.read_parquet(path)\n",
        "  df = df[columns.keys()]\n",
        "  df = df.rename(columns=columns)\n",
        "  df = df[df.pickup_zone.isin(manhattan_zones) & df.dropoff_zone.isin(manhattan_zones)]\n",
        "  df.to_parquet(f\"{root_path}/processed_files/{file_name}\")\n",
        "  return df"
      ],
      "metadata": {
        "id": "zgvZp4Juo677"
      },
      "execution_count": null,
      "outputs": []
    },
    {
      "cell_type": "code",
      "source": [
        "def concat_files(trip=\"yellow\", year=2019):\n",
        "  starting_month = 1\n",
        "  if year == 2019 and trip == \"fhvhv\":\n",
        "    starting_month = 2\n",
        "\n",
        "  ending_month = 12\n",
        "  if year == 2024:\n",
        "    ending_month = 8\n",
        "\n",
        "  dfs = []\n",
        "  for month in tqdm(range(starting_month, ending_month + 1)):\n",
        "    path = f\"{root_path}/processed_files/{trip}_tripdata_{year}-{str(month).zfill(2)}.parquet\"\n",
        "    df_fragment = pd.read_parquet(path)\n",
        "    dfs.append(df_fragment)\n",
        "\n",
        "  df = pd.concat(dfs, ignore_index = True)\n",
        "  if trip == \"yellow\":\n",
        "    df[\"license\"] = \"yellow\"\n",
        "  df.to_parquet(f\"{root_path}/concatenated_files/{trip}_{year}.parquet\")\n",
        "  print(f\"Wrote {root_path}/concatenated_files/{trip}_{year}.parquet\")"
      ],
      "metadata": {
        "id": "mvAT8kKcGO2o"
      },
      "execution_count": null,
      "outputs": []
    },
    {
      "cell_type": "markdown",
      "source": [
        "## Iterate to Create Yearly Files"
      ],
      "metadata": {
        "id": "9Pl_mSx3YKZ0"
      }
    },
    {
      "cell_type": "code",
      "source": [
        "# for trip in [\"fhvhv\", \"yellow\"]:\n",
        "#   for year in range(2019, 2025):\n",
        "#     for month in range(12):\n",
        "#       if trip == \"fhvhv\" and year == 2019 and month == 0:\n",
        "#         # No file for FHVHV for January 2019.\n",
        "#         continue\n",
        "#       month = str(month + 1).zfill(2)\n",
        "#       file_name = f\"{trip}_tripdata_{year}-{month}.parquet\"\n",
        "#       print(f\"Working on {file_name}\")\n",
        "#       process_file(trip, file_name)\n"
      ],
      "metadata": {
        "id": "4ZFtYzxLnc0A"
      },
      "execution_count": null,
      "outputs": []
    },
    {
      "cell_type": "code",
      "source": [
        "# for trip in [\"fhvhv\", \"yellow\"]:\n",
        "#   for year in range(2020, 2025):\n",
        "#     concat_files(trip=trip, year=year)"
      ],
      "metadata": {
        "id": "O6px-UVdw90A"
      },
      "execution_count": null,
      "outputs": []
    },
    {
      "cell_type": "markdown",
      "source": [
        "## Aggregate Yellow and FHVHV Data to Make Hourly Totals"
      ],
      "metadata": {
        "id": "OwSiLR-wYUrB"
      }
    },
    {
      "cell_type": "code",
      "source": [
        "def aggregate_data(year=2024):\n",
        "  destination_path = f\"{root_path}/aggregated_hourly_files/{year}.parquet\"\n",
        "  yellow_df = pd.read_parquet(f\"{root_path}/concatenated_files/yellow_{year}.parquet\")\n",
        "  fhvhv_df = pd.read_parquet(f\"{root_path}/concatenated_files/fhvhv_{year}.parquet\")\n",
        "  df = pd.concat([yellow_df, fhvhv_df])\n",
        "\n",
        "  # Limit to trips that took place in the appropriate year.\n",
        "  df = df[df.pickup_datetime.dt.year == year]\n",
        "\n",
        "  # Create trip duration column\n",
        "  df[\"trip_duration\"] = df.dropoff_datetime - df.pickup_datetime\n",
        "\n",
        "  # Limit data to trip durations of under 2 hours.\n",
        "  df = df[df.trip_duration.between(pd.Timedelta(minutes=1), pd.Timedelta(hours=2))]\n",
        "\n",
        "  # Limit data to trip distances of under 10 miles.\n",
        "  df = df[(df.trip_distance > 0) & (df.trip_distance <= 10)]\n",
        "\n",
        "  # Create `date` and `hour` columns.\n",
        "  df[\"date\"] = df.pickup_datetime.dt.date\n",
        "  df[\"hour\"] = df.pickup_datetime.dt.hour\n",
        "\n",
        "  # Relabel license to give more helpful names.\n",
        "  df[\"license\"] = df[\"license\"].replace(license_relabel)\n",
        "\n",
        "  # Aggregate by hour and license\n",
        "  license_agg_df = df.groupby([\"date\", \"hour\", \"license\"]).size().unstack(fill_value=0)\n",
        "\n",
        "  agg_df = df.groupby([\"date\", \"hour\"]).agg(\n",
        "      trip_count=(\"trip_duration\", \"count\"),\n",
        "      trip_duration_mean=(\"trip_duration\", \"mean\"),\n",
        "      trip_duration_median=(\"trip_duration\", \"median\"),\n",
        "      trip_duration_std_dev=(\"trip_duration\", \"std\"),\n",
        "      trip_duration_1Q=(\"trip_duration\", lambda x: np.percentile(x, 25)),\n",
        "      trip_duration_3Q=(\"trip_duration\", lambda x: np.percentile(x, 75)),\n",
        "      trip_distance_mean=(\"trip_distance\", \"mean\"),\n",
        "      trip_distance_median=(\"trip_distance\", \"median\"),\n",
        "      trip_distance_std_dev=(\"trip_distance\", \"std\"),\n",
        "      trip_distance_1Q=(\"trip_distance\", lambda x: np.percentile(x, 25)),\n",
        "      trip_distance_3Q=(\"trip_distance\", lambda x: np.percentile(x, 75)),\n",
        "      half_mile_trips=(\"trip_distance\", lambda x: (x <= 0.5).sum()),\n",
        "      one_mile_trips=(\"trip_distance\", lambda x: (x <= 1).sum()),\n",
        "      two_mile_trips=(\"trip_distance\", lambda x: (x <= 2).sum()),\n",
        "      three_mile_trips=(\"trip_distance\", lambda x: (x <= 3).sum()),\n",
        "      five_mile_trips=(\"trip_distance\", lambda x: (x <= 5).sum())\n",
        "  ).reset_index()\n",
        "  merged_df = pd.merge(agg_df, license_agg_df, on=[\"date\", \"hour\"], how=\"inner\")\n",
        "  merged_df.to_parquet(destination_path)\n",
        "\n"
      ],
      "metadata": {
        "id": "lUWmt620D8U7"
      },
      "execution_count": 4,
      "outputs": []
    },
    {
      "cell_type": "code",
      "source": [
        "for year in tqdm(range(2019, 2025)):\n",
        "  aggregate_data(year)\n"
      ],
      "metadata": {
        "colab": {
          "base_uri": "https://localhost:8080/",
          "height": 49,
          "referenced_widgets": [
            "436a11b6ffb742f4ac7752352ecb27d6",
            "2304748c726d4352bc1203a659abf24f",
            "72bed3bf6712484aa11866a5ff97bf73",
            "6221b47ef11a47f99831384a63f45ada",
            "1f9c660d2d5e45cf872e4ac9e9893fb8",
            "a98748bc75214f50aaa42ea85977c7bf",
            "5c8316986d0a48eba1374c15842a4e70",
            "2b2fe58a0ca546ce93ab04631c277fa9",
            "5603a2e3e93d4367a47a63b2af0de47a",
            "02bfbcf82ebd4ff387f7a83ffd753e40",
            "bd8af8b402734096985bdb371565af51"
          ]
        },
        "id": "HyaDTqhlEvaB",
        "outputId": "ed9e751b-b765-4913-debc-cbbdf47f121f"
      },
      "execution_count": 5,
      "outputs": [
        {
          "output_type": "display_data",
          "data": {
            "text/plain": [
              "  0%|          | 0/6 [00:00<?, ?it/s]"
            ],
            "application/vnd.jupyter.widget-view+json": {
              "version_major": 2,
              "version_minor": 0,
              "model_id": "436a11b6ffb742f4ac7752352ecb27d6"
            }
          },
          "metadata": {}
        }
      ]
    },
    {
      "cell_type": "code",
      "source": [
        "dfs = []\n",
        "\n",
        "for year in tqdm(range(2019, 2025)):\n",
        "  source_path = f\"{root_path}/aggregated_hourly_files/{year}.parquet\"\n",
        "  df_fragment = pd.read_parquet(source_path)\n",
        "  dfs.append(df_fragment)\n",
        "\n",
        "df = pd.concat(dfs, ignore_index=True)"
      ],
      "metadata": {
        "colab": {
          "base_uri": "https://localhost:8080/",
          "height": 49,
          "referenced_widgets": [
            "c386df05cdf4469195075a163276c2ad",
            "bf457e37026a4cc9ada56131bdfd47d0",
            "71974862b7f0496eb65cd4252efaf4a9",
            "b3335c566e1e41a3936988ddd7679024",
            "fab9af3bd42c4939909cd55646b15c32",
            "5aecf4cd12794473b9f577adfc50a487",
            "52205d5b8cf146f4985d66e0eb166b31",
            "9903460d16ed4799bb48b97b78354290",
            "0b172ffa64a9404f9be9ea43eb5c53b2",
            "ec9e8ffe47b54415be977558863df2e6",
            "5c601f3944484e1a9293ba2e457b1aed"
          ]
        },
        "id": "f6i6LWQ79KBa",
        "outputId": "67cac691-922c-42b0-9461-48e74d8f2a51"
      },
      "execution_count": 6,
      "outputs": [
        {
          "output_type": "display_data",
          "data": {
            "text/plain": [
              "  0%|          | 0/6 [00:00<?, ?it/s]"
            ],
            "application/vnd.jupyter.widget-view+json": {
              "version_major": 2,
              "version_minor": 0,
              "model_id": "c386df05cdf4469195075a163276c2ad"
            }
          },
          "metadata": {}
        }
      ]
    },
    {
      "cell_type": "code",
      "source": [
        "df = df[pd.to_datetime(df.date) < \"2024-06-26\"]\n",
        "df.reset_index()\n",
        "df.to_parquet(f\"{root_path}/complete_hourly.parquet\")\n",
        "\n"
      ],
      "metadata": {
        "id": "ZH7gIb6YRjuW"
      },
      "execution_count": 7,
      "outputs": []
    },
    {
      "cell_type": "code",
      "source": [],
      "metadata": {
        "id": "UnF1xqDWCXxR"
      },
      "execution_count": null,
      "outputs": []
    }
  ]
}
