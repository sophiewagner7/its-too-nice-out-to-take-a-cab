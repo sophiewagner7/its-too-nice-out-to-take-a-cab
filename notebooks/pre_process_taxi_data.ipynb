{
  "nbformat": 4,
  "nbformat_minor": 0,
  "metadata": {
    "colab": {
      "provenance": [],
      "machine_shape": "hm",
      "authorship_tag": "ABX9TyNsqSL7SkL6FsKFECUVbylP",
      "include_colab_link": true
    },
    "kernelspec": {
      "name": "python3",
      "display_name": "Python 3"
    },
    "language_info": {
      "name": "python"
    },
    "widgets": {
      "application/vnd.jupyter.widget-state+json": {
        "be6be1c6d5734e089c8a8710d7d13020": {
          "model_module": "@jupyter-widgets/controls",
          "model_name": "HBoxModel",
          "model_module_version": "1.5.0",
          "state": {
            "_dom_classes": [],
            "_model_module": "@jupyter-widgets/controls",
            "_model_module_version": "1.5.0",
            "_model_name": "HBoxModel",
            "_view_count": null,
            "_view_module": "@jupyter-widgets/controls",
            "_view_module_version": "1.5.0",
            "_view_name": "HBoxView",
            "box_style": "",
            "children": [
              "IPY_MODEL_6903e7f4e35941c79dc523d4db2a8b0f",
              "IPY_MODEL_158ebf1f62a54d4d8237b32220e0a37a",
              "IPY_MODEL_475525b4376f49fb96af8adb3367992f"
            ],
            "layout": "IPY_MODEL_4513591bfe7e437190c66d76daa7ba4a"
          }
        },
        "6903e7f4e35941c79dc523d4db2a8b0f": {
          "model_module": "@jupyter-widgets/controls",
          "model_name": "HTMLModel",
          "model_module_version": "1.5.0",
          "state": {
            "_dom_classes": [],
            "_model_module": "@jupyter-widgets/controls",
            "_model_module_version": "1.5.0",
            "_model_name": "HTMLModel",
            "_view_count": null,
            "_view_module": "@jupyter-widgets/controls",
            "_view_module_version": "1.5.0",
            "_view_name": "HTMLView",
            "description": "",
            "description_tooltip": null,
            "layout": "IPY_MODEL_8abdbf90f9b6475992c94304e3d0ddb8",
            "placeholder": "​",
            "style": "IPY_MODEL_1b8856e9ae8b4bd6a279b568a6f5a92e",
            "value": " 83%"
          }
        },
        "158ebf1f62a54d4d8237b32220e0a37a": {
          "model_module": "@jupyter-widgets/controls",
          "model_name": "FloatProgressModel",
          "model_module_version": "1.5.0",
          "state": {
            "_dom_classes": [],
            "_model_module": "@jupyter-widgets/controls",
            "_model_module_version": "1.5.0",
            "_model_name": "FloatProgressModel",
            "_view_count": null,
            "_view_module": "@jupyter-widgets/controls",
            "_view_module_version": "1.5.0",
            "_view_name": "ProgressView",
            "bar_style": "",
            "description": "",
            "description_tooltip": null,
            "layout": "IPY_MODEL_b223da07882347e0bf4cd1a19e06aca4",
            "max": 6,
            "min": 0,
            "orientation": "horizontal",
            "style": "IPY_MODEL_047bd18ab79d4066be99b12883b95fd1",
            "value": 5
          }
        },
        "475525b4376f49fb96af8adb3367992f": {
          "model_module": "@jupyter-widgets/controls",
          "model_name": "HTMLModel",
          "model_module_version": "1.5.0",
          "state": {
            "_dom_classes": [],
            "_model_module": "@jupyter-widgets/controls",
            "_model_module_version": "1.5.0",
            "_model_name": "HTMLModel",
            "_view_count": null,
            "_view_module": "@jupyter-widgets/controls",
            "_view_module_version": "1.5.0",
            "_view_name": "HTMLView",
            "description": "",
            "description_tooltip": null,
            "layout": "IPY_MODEL_19478ee111f547d0b7da20c1b3bf0f40",
            "placeholder": "​",
            "style": "IPY_MODEL_36eff33e8b114de8a0d4bb123d17e6b4",
            "value": " 5/6 [22:03&lt;04:17, 257.21s/it]"
          }
        },
        "4513591bfe7e437190c66d76daa7ba4a": {
          "model_module": "@jupyter-widgets/base",
          "model_name": "LayoutModel",
          "model_module_version": "1.2.0",
          "state": {
            "_model_module": "@jupyter-widgets/base",
            "_model_module_version": "1.2.0",
            "_model_name": "LayoutModel",
            "_view_count": null,
            "_view_module": "@jupyter-widgets/base",
            "_view_module_version": "1.2.0",
            "_view_name": "LayoutView",
            "align_content": null,
            "align_items": null,
            "align_self": null,
            "border": null,
            "bottom": null,
            "display": null,
            "flex": null,
            "flex_flow": null,
            "grid_area": null,
            "grid_auto_columns": null,
            "grid_auto_flow": null,
            "grid_auto_rows": null,
            "grid_column": null,
            "grid_gap": null,
            "grid_row": null,
            "grid_template_areas": null,
            "grid_template_columns": null,
            "grid_template_rows": null,
            "height": null,
            "justify_content": null,
            "justify_items": null,
            "left": null,
            "margin": null,
            "max_height": null,
            "max_width": null,
            "min_height": null,
            "min_width": null,
            "object_fit": null,
            "object_position": null,
            "order": null,
            "overflow": null,
            "overflow_x": null,
            "overflow_y": null,
            "padding": null,
            "right": null,
            "top": null,
            "visibility": null,
            "width": null
          }
        },
        "8abdbf90f9b6475992c94304e3d0ddb8": {
          "model_module": "@jupyter-widgets/base",
          "model_name": "LayoutModel",
          "model_module_version": "1.2.0",
          "state": {
            "_model_module": "@jupyter-widgets/base",
            "_model_module_version": "1.2.0",
            "_model_name": "LayoutModel",
            "_view_count": null,
            "_view_module": "@jupyter-widgets/base",
            "_view_module_version": "1.2.0",
            "_view_name": "LayoutView",
            "align_content": null,
            "align_items": null,
            "align_self": null,
            "border": null,
            "bottom": null,
            "display": null,
            "flex": null,
            "flex_flow": null,
            "grid_area": null,
            "grid_auto_columns": null,
            "grid_auto_flow": null,
            "grid_auto_rows": null,
            "grid_column": null,
            "grid_gap": null,
            "grid_row": null,
            "grid_template_areas": null,
            "grid_template_columns": null,
            "grid_template_rows": null,
            "height": null,
            "justify_content": null,
            "justify_items": null,
            "left": null,
            "margin": null,
            "max_height": null,
            "max_width": null,
            "min_height": null,
            "min_width": null,
            "object_fit": null,
            "object_position": null,
            "order": null,
            "overflow": null,
            "overflow_x": null,
            "overflow_y": null,
            "padding": null,
            "right": null,
            "top": null,
            "visibility": null,
            "width": null
          }
        },
        "1b8856e9ae8b4bd6a279b568a6f5a92e": {
          "model_module": "@jupyter-widgets/controls",
          "model_name": "DescriptionStyleModel",
          "model_module_version": "1.5.0",
          "state": {
            "_model_module": "@jupyter-widgets/controls",
            "_model_module_version": "1.5.0",
            "_model_name": "DescriptionStyleModel",
            "_view_count": null,
            "_view_module": "@jupyter-widgets/base",
            "_view_module_version": "1.2.0",
            "_view_name": "StyleView",
            "description_width": ""
          }
        },
        "b223da07882347e0bf4cd1a19e06aca4": {
          "model_module": "@jupyter-widgets/base",
          "model_name": "LayoutModel",
          "model_module_version": "1.2.0",
          "state": {
            "_model_module": "@jupyter-widgets/base",
            "_model_module_version": "1.2.0",
            "_model_name": "LayoutModel",
            "_view_count": null,
            "_view_module": "@jupyter-widgets/base",
            "_view_module_version": "1.2.0",
            "_view_name": "LayoutView",
            "align_content": null,
            "align_items": null,
            "align_self": null,
            "border": null,
            "bottom": null,
            "display": null,
            "flex": null,
            "flex_flow": null,
            "grid_area": null,
            "grid_auto_columns": null,
            "grid_auto_flow": null,
            "grid_auto_rows": null,
            "grid_column": null,
            "grid_gap": null,
            "grid_row": null,
            "grid_template_areas": null,
            "grid_template_columns": null,
            "grid_template_rows": null,
            "height": null,
            "justify_content": null,
            "justify_items": null,
            "left": null,
            "margin": null,
            "max_height": null,
            "max_width": null,
            "min_height": null,
            "min_width": null,
            "object_fit": null,
            "object_position": null,
            "order": null,
            "overflow": null,
            "overflow_x": null,
            "overflow_y": null,
            "padding": null,
            "right": null,
            "top": null,
            "visibility": null,
            "width": null
          }
        },
        "047bd18ab79d4066be99b12883b95fd1": {
          "model_module": "@jupyter-widgets/controls",
          "model_name": "ProgressStyleModel",
          "model_module_version": "1.5.0",
          "state": {
            "_model_module": "@jupyter-widgets/controls",
            "_model_module_version": "1.5.0",
            "_model_name": "ProgressStyleModel",
            "_view_count": null,
            "_view_module": "@jupyter-widgets/base",
            "_view_module_version": "1.2.0",
            "_view_name": "StyleView",
            "bar_color": null,
            "description_width": ""
          }
        },
        "19478ee111f547d0b7da20c1b3bf0f40": {
          "model_module": "@jupyter-widgets/base",
          "model_name": "LayoutModel",
          "model_module_version": "1.2.0",
          "state": {
            "_model_module": "@jupyter-widgets/base",
            "_model_module_version": "1.2.0",
            "_model_name": "LayoutModel",
            "_view_count": null,
            "_view_module": "@jupyter-widgets/base",
            "_view_module_version": "1.2.0",
            "_view_name": "LayoutView",
            "align_content": null,
            "align_items": null,
            "align_self": null,
            "border": null,
            "bottom": null,
            "display": null,
            "flex": null,
            "flex_flow": null,
            "grid_area": null,
            "grid_auto_columns": null,
            "grid_auto_flow": null,
            "grid_auto_rows": null,
            "grid_column": null,
            "grid_gap": null,
            "grid_row": null,
            "grid_template_areas": null,
            "grid_template_columns": null,
            "grid_template_rows": null,
            "height": null,
            "justify_content": null,
            "justify_items": null,
            "left": null,
            "margin": null,
            "max_height": null,
            "max_width": null,
            "min_height": null,
            "min_width": null,
            "object_fit": null,
            "object_position": null,
            "order": null,
            "overflow": null,
            "overflow_x": null,
            "overflow_y": null,
            "padding": null,
            "right": null,
            "top": null,
            "visibility": null,
            "width": null
          }
        },
        "36eff33e8b114de8a0d4bb123d17e6b4": {
          "model_module": "@jupyter-widgets/controls",
          "model_name": "DescriptionStyleModel",
          "model_module_version": "1.5.0",
          "state": {
            "_model_module": "@jupyter-widgets/controls",
            "_model_module_version": "1.5.0",
            "_model_name": "DescriptionStyleModel",
            "_view_count": null,
            "_view_module": "@jupyter-widgets/base",
            "_view_module_version": "1.2.0",
            "_view_name": "StyleView",
            "description_width": ""
          }
        }
      }
    }
  },
  "cells": [
    {
      "cell_type": "markdown",
      "metadata": {
        "id": "view-in-github",
        "colab_type": "text"
      },
      "source": [
        "<a href=\"https://colab.research.google.com/github/sophiewagner7/its-too-nice-out-to-take-a-cab/blob/main/notebooks/pre_process_taxi_data.ipynb\" target=\"_parent\"><img src=\"https://colab.research.google.com/assets/colab-badge.svg\" alt=\"Open In Colab\"/></a>"
      ]
    },
    {
      "cell_type": "markdown",
      "source": [
        "# Process Taxi Data\n",
        "\n",
        "Moacir P. de Sá Pereira\n",
        "\n",
        "This notebook reduces the size of our yellow taxi and high-volume for-hire vehicle (Uber, Lyft) data, downloaded from the [Taxi and Limousine Commission](https://www.nyc.gov/site/tlc/about/tlc-trip-record-data.page). We drop columns that will not be important to us, rename the columns so that both yellow cab and FHVHV data will have the same column names, save `license`, which indicates which company operates the FHVHV trip in question. The codes convert to companies like this:\n",
        "\n",
        "Code | Company\n",
        "----|----\n",
        "HV0002|Juno\n",
        "HV0003|Uber\n",
        "HV0004|Via\n",
        "HV0005|Lyft\n",
        "\n",
        "Additionally, we use the taxi zone lookup table to reduce our trip data only to trips that originate and terminate in Manhattan. This has a substantial effect on the FHVHV data, but little effect on the yellow cab data.\n",
        "\n",
        "The files are then saved as parquet files in a `processed_files` folder.\n",
        "\n",
        "Next, the processed files are concatenated to make yearly files, saved in `concatenated_files`."
      ],
      "metadata": {
        "id": "1CC2WrR0Drck"
      }
    },
    {
      "cell_type": "markdown",
      "source": [
        "## Imports"
      ],
      "metadata": {
        "id": "n0TfTMSRXg63"
      }
    },
    {
      "cell_type": "code",
      "execution_count": 10,
      "metadata": {
        "id": "ER18E9LRgFd1",
        "colab": {
          "base_uri": "https://localhost:8080/"
        },
        "outputId": "5bbd09a5-a9be-4276-abc7-34b47c98bcf8"
      },
      "outputs": [
        {
          "output_type": "stream",
          "name": "stdout",
          "text": [
            "Drive already mounted at /content/drive/; to attempt to forcibly remount, call drive.mount(\"/content/drive/\", force_remount=True).\n"
          ]
        }
      ],
      "source": [
        "import pandas as pd\n",
        "import numpy as np\n",
        "from tqdm.notebook import tqdm\n",
        "from google.colab import drive\n",
        "\n",
        "drive.mount('/content/drive/')"
      ]
    },
    {
      "cell_type": "markdown",
      "source": [
        "## Set Constants"
      ],
      "metadata": {
        "id": "aAXQ8xqYXloB"
      }
    },
    {
      "cell_type": "code",
      "source": [
        "root_path = \"./drive/MyDrive/taxi-data\"\n",
        "\n",
        "zones_df = pd.read_csv(f\"{root_path}/taxi_zone_lookup.csv\")\n",
        "manhattan_zones = list(zones_df[zones_df.Borough == \"Manhattan\"].LocationID)\n",
        "\n",
        "yellow_columns_to_keep = {\n",
        "    \"tpep_pickup_datetime\": \"pickup_datetime\",\n",
        "    \"tpep_dropoff_datetime\": \"dropoff_datetime\",\n",
        "    \"trip_distance\": \"trip_distance\",\n",
        "    \"PULocationID\": \"pickup_zone\",\n",
        "    \"DOLocationID\": \"dropoff_zone\",\n",
        "    \"fare_amount\": \"fare_amount\",\n",
        "    \"tip_amount\": \"tip_amount\"\n",
        "}\n",
        "\n",
        "fhvhv_columns_to_keep = {\n",
        "    \"pickup_datetime\": \"pickup_datetime\",\n",
        "    \"dropoff_datetime\": \"dropoff_datetime\",\n",
        "    \"trip_miles\": \"trip_distance\",\n",
        "    \"PULocationID\": \"pickup_zone\",\n",
        "    \"DOLocationID\": \"dropoff_zone\",\n",
        "    \"base_passenger_fare\": \"fare_amount\",\n",
        "    \"tips\": \"tip_amount\",\n",
        "    \"hvfhs_license_num\": \"license\",\n",
        "}\n",
        "\n",
        "license_relabel = {\n",
        "    \"yellow\": \"yellow\",\n",
        "    \"HV0002\": \"juno\",\n",
        "    \"HV0003\": \"uber\",\n",
        "    \"HV0004\": \"via\",\n",
        "    \"HV0005\": \"lyft\"\n",
        "}"
      ],
      "metadata": {
        "id": "B5cyBHFigMqi"
      },
      "execution_count": 11,
      "outputs": []
    },
    {
      "cell_type": "markdown",
      "source": [
        "## Pre-Processing Functions"
      ],
      "metadata": {
        "id": "0fQ-2jOFYCRA"
      }
    },
    {
      "cell_type": "code",
      "source": [
        "def process_file(trip = \"fhvhv\", file_name = \"fhvhv_tripdata_2021-05.parquet\"):\n",
        "  path = f\"{root_path}/original_files/{file_name}\"\n",
        "  if trip == \"yellow\":\n",
        "    columns = yellow_columns_to_keep\n",
        "  else:\n",
        "    columns = fhvhv_columns_to_keep\n",
        "  df = pd.read_parquet(path)\n",
        "  df = df[columns.keys()]\n",
        "  df = df.rename(columns=columns)\n",
        "  df = df[df.pickup_zone.isin(manhattan_zones) & df.dropoff_zone.isin(manhattan_zones)]\n",
        "  df.to_parquet(f\"{root_path}/processed_files/{file_name}\")\n",
        "  return df"
      ],
      "metadata": {
        "id": "zgvZp4Juo677"
      },
      "execution_count": 12,
      "outputs": []
    },
    {
      "cell_type": "code",
      "source": [
        "def concat_files(trip=\"yellow\", year=2019):\n",
        "  starting_month = 1\n",
        "\n",
        "  if year == 2019 and trip == \"fhvhv\":\n",
        "    starting_month = 2\n",
        "\n",
        "  ending_month = 12\n",
        "  if year == 2024:\n",
        "    ending_month = 8\n",
        "\n",
        "  dfs = []\n",
        "  for month in tqdm(range(starting_month, ending_month + 1)):\n",
        "    path = f\"{root_path}/processed_files/{trip}_tripdata_{year}-{str(month).zfill(2)}.parquet\"\n",
        "    df_fragment = pd.read_parquet(path)\n",
        "    dfs.append(df_fragment)\n",
        "\n",
        "  df = pd.concat(dfs, ignore_index = True)\n",
        "\n",
        "  # Set license to yellow for yellow cab trips\n",
        "  if trip == \"yellow\":\n",
        "    df[\"license\"] = \"yellow\"\n",
        "\n",
        "  # Write files\n",
        "  df.to_parquet(f\"{root_path}/concatenated_files/{trip}_{year}.parquet\")\n",
        "  print(f\"Wrote {root_path}/concatenated_files/{trip}_{year}.parquet\")"
      ],
      "metadata": {
        "id": "mvAT8kKcGO2o"
      },
      "execution_count": 13,
      "outputs": []
    },
    {
      "cell_type": "markdown",
      "source": [
        "## Iterate to Create Yearly Files"
      ],
      "metadata": {
        "id": "9Pl_mSx3YKZ0"
      }
    },
    {
      "cell_type": "code",
      "source": [
        "# for trip in [\"fhvhv\", \"yellow\"]:\n",
        "#   for year in range(2019, 2025):\n",
        "#     for month in range(12):\n",
        "#       if trip == \"fhvhv\" and year == 2019 and month == 0:\n",
        "#         # No file for FHVHV for January 2019.\n",
        "#         continue\n",
        "#       month = str(month + 1).zfill(2)\n",
        "#       file_name = f\"{trip}_tripdata_{year}-{month}.parquet\"\n",
        "#       print(f\"Working on {file_name}\")\n",
        "#       process_file(trip, file_name)\n"
      ],
      "metadata": {
        "id": "4ZFtYzxLnc0A"
      },
      "execution_count": 14,
      "outputs": []
    },
    {
      "cell_type": "code",
      "source": [
        "# for trip in [\"fhvhv\", \"yellow\"]:\n",
        "#   for year in range(2020, 2025):\n",
        "#     concat_files(trip=trip, year=year)"
      ],
      "metadata": {
        "id": "O6px-UVdw90A"
      },
      "execution_count": 15,
      "outputs": []
    },
    {
      "cell_type": "markdown",
      "source": [
        "## Aggregate Yellow and FHVHV Data to Make Hourly Totals"
      ],
      "metadata": {
        "id": "OwSiLR-wYUrB"
      }
    },
    {
      "cell_type": "code",
      "source": [
        "def aggregate_data(year=2024):\n",
        "  destination_path = f\"{root_path}/aggregated_hourly_files/{year}.parquet\"\n",
        "  yellow_df = pd.read_parquet(f\"{root_path}/concatenated_files/yellow_{year}.parquet\")\n",
        "  fhvhv_df = pd.read_parquet(f\"{root_path}/concatenated_files/fhvhv_{year}.parquet\")\n",
        "  df = pd.concat([yellow_df, fhvhv_df])\n",
        "\n",
        "  # Limit to trips that took place in the appropriate year.\n",
        "  df = df[df.pickup_datetime.dt.year == year]\n",
        "\n",
        "  # Create trip duration column\n",
        "  df[\"trip_duration\"] = df.dropoff_datetime - df.pickup_datetime\n",
        "\n",
        "  # Limit data to trip durations of under 2 hours.\n",
        "  df = df[df.trip_duration.between(pd.Timedelta(minutes=1), pd.Timedelta(hours=2))]\n",
        "\n",
        "  # Limit data to trip distances of under 10 miles.\n",
        "  df = df[(df.trip_distance > 0) & (df.trip_distance <= 10)]\n",
        "\n",
        "  # Create `date` and `hour` columns.\n",
        "  df[\"datetime\"] = pd.to_datetime(df.pickup_datetime)\n",
        "  df = df.sort_values('datetime')\n",
        "  df[\"datetime\"] = df[\"datetime\"].dt.floor('h')\n",
        "  df[\"date\"] = df.datetime.dt.date\n",
        "  df[\"hour\"] = df.datetime.dt.hour\n",
        "  df.set_index('datetime', inplace=True)\n",
        "\n",
        "  # Relabel license to give more helpful names.\n",
        "  df[\"license\"] = df[\"license\"].replace(license_relabel)\n",
        "\n",
        "  # Aggregate by hour and license\n",
        "  license_agg_df = df.groupby([\"date\", \"hour\", \"license\"]).size().unstack(fill_value=0)\n",
        "\n",
        "  agg_df = df.groupby([\"date\", \"hour\"]).agg(\n",
        "      trip_count=(\"trip_duration\", \"count\"),\n",
        "      trip_duration_mean=(\"trip_duration\", \"mean\"),\n",
        "      trip_duration_median=(\"trip_duration\", \"median\"),\n",
        "      trip_duration_std_dev=(\"trip_duration\", \"std\"),\n",
        "      trip_duration_1Q=(\"trip_duration\", lambda x: np.percentile(x, 25)),\n",
        "      trip_duration_3Q=(\"trip_duration\", lambda x: np.percentile(x, 75)),\n",
        "      trip_distance_mean=(\"trip_distance\", \"mean\"),\n",
        "      trip_distance_median=(\"trip_distance\", \"median\"),\n",
        "      trip_distance_std_dev=(\"trip_distance\", \"std\"),\n",
        "      trip_distance_1Q=(\"trip_distance\", lambda x: np.percentile(x, 25)),\n",
        "      trip_distance_3Q=(\"trip_distance\", lambda x: np.percentile(x, 75)),\n",
        "      half_mile_trips=(\"trip_distance\", lambda x: (x <= 0.5).sum()),\n",
        "      one_mile_trips=(\"trip_distance\", lambda x: ((x > 0.5) & (x <= 1)).sum()),\n",
        "      two_mile_trips=(\"trip_distance\", lambda x: ((x > 1) & (x <= 2)).sum()),\n",
        "      three_mile_trips=(\"trip_distance\", lambda x: ((x > 2) & (x <= 3)).sum()),\n",
        "      five_mile_trips=(\"trip_distance\", lambda x: ((x > 3) & (x <= 5)).sum())\n",
        "  ).reset_index()\n",
        "  merged_df = pd.merge(agg_df, license_agg_df, on=[\"date\", \"hour\"], how=\"inner\")\n",
        "\n",
        "  merged_df.to_parquet(destination_path)"
      ],
      "metadata": {
        "id": "lUWmt620D8U7"
      },
      "execution_count": 16,
      "outputs": []
    },
    {
      "cell_type": "code",
      "source": [
        "for year in tqdm(range(2019, 2025)):\n",
        "  aggregate_data(year)"
      ],
      "metadata": {
        "colab": {
          "base_uri": "https://localhost:8080/",
          "height": 49,
          "referenced_widgets": [
            "be6be1c6d5734e089c8a8710d7d13020",
            "6903e7f4e35941c79dc523d4db2a8b0f",
            "158ebf1f62a54d4d8237b32220e0a37a",
            "475525b4376f49fb96af8adb3367992f",
            "4513591bfe7e437190c66d76daa7ba4a",
            "8abdbf90f9b6475992c94304e3d0ddb8",
            "1b8856e9ae8b4bd6a279b568a6f5a92e",
            "b223da07882347e0bf4cd1a19e06aca4",
            "047bd18ab79d4066be99b12883b95fd1",
            "19478ee111f547d0b7da20c1b3bf0f40",
            "36eff33e8b114de8a0d4bb123d17e6b4"
          ]
        },
        "id": "HyaDTqhlEvaB",
        "outputId": "d80a7938-0bf6-487f-bbb7-a310d687ef88"
      },
      "execution_count": 17,
      "outputs": [
        {
          "data": {
            "application/vnd.jupyter.widget-view+json": {
              "model_id": "be6be1c6d5734e089c8a8710d7d13020",
              "version_major": 2,
              "version_minor": 0
            },
            "text/plain": [
              "  0%|          | 0/6 [00:00<?, ?it/s]"
            ]
          },
          "metadata": {},
          "output_type": "display_data"
        }
      ]
    },
    {
      "cell_type": "code",
      "source": [
        "dfs = []\n",
        "\n",
        "for year in tqdm(range(2019, 2025)):\n",
        "  source_path = f\"{root_path}/aggregated_hourly_files/{year}.parquet\"\n",
        "  df_fragment = pd.read_parquet(source_path)\n",
        "  dfs.append(df_fragment)\n",
        "\n",
        "df = pd.concat(dfs, ignore_index=True)\n",
        "\n",
        "df['datetime'] = pd.to_datetime(df['date'].astype(str) + ' ' + df['hour'].astype(str) + ':00')\n",
        "df.set_index('datetime', inplace=True)"
      ],
      "metadata": {
        "colab": {
          "base_uri": "https://localhost:8080/",
          "height": 35,
          "referenced_widgets": [
            "0462d4075e7a406fbffa41d97c7ba2fa"
          ]
        },
        "id": "f6i6LWQ79KBa",
        "outputId": "fd7984c4-3fdf-48e4-8ce0-9e183a277fc9"
      },
      "execution_count": 18,
      "outputs": [
        {
          "data": {
            "application/vnd.jupyter.widget-view+json": {
              "model_id": "0462d4075e7a406fbffa41d97c7ba2fa",
              "version_major": 2,
              "version_minor": 0
            },
            "text/plain": [
              "  0%|          | 0/6 [00:00<?, ?it/s]"
            ]
          },
          "metadata": {},
          "output_type": "display_data"
        }
      ]
    },
    {
      "cell_type": "code",
      "source": [
        "df.to_parquet(f\"{root_path}/complete_hourly.parquet\")"
      ],
      "metadata": {
        "id": "ZH7gIb6YRjuW"
      },
      "execution_count": 20,
      "outputs": []
    },
    {
      "cell_type": "code",
      "source": [
        "df.columns"
      ],
      "metadata": {
        "id": "HYkapNJKDivr",
        "outputId": "1ddfef79-9e26-4b77-ddee-3c0dbafe9cf7",
        "colab": {
          "base_uri": "https://localhost:8080/"
        }
      },
      "execution_count": 21,
      "outputs": [
        {
          "output_type": "execute_result",
          "data": {
            "text/plain": [
              "Index(['date', 'hour', 'trip_count', 'trip_duration_mean',\n",
              "       'trip_duration_median', 'trip_duration_std_dev', 'trip_duration_1Q',\n",
              "       'trip_duration_3Q', 'trip_distance_mean', 'trip_distance_median',\n",
              "       'trip_distance_std_dev', 'trip_distance_1Q', 'trip_distance_3Q',\n",
              "       'half_mile_trips', 'one_mile_trips', 'two_mile_trips',\n",
              "       'three_mile_trips', 'five_mile_trips', 'juno', 'lyft', 'uber', 'via',\n",
              "       'yellow'],\n",
              "      dtype='object')"
            ]
          },
          "metadata": {},
          "execution_count": 21
        }
      ]
    },
    {
      "cell_type": "code",
      "source": [],
      "metadata": {
        "id": "zsrSX3IuDsVs"
      },
      "execution_count": null,
      "outputs": []
    }
  ]
}