{
  "nbformat": 4,
  "nbformat_minor": 0,
  "metadata": {
    "colab": {
      "provenance": [],
      "authorship_tag": "ABX9TyN3lgIqlBp8mMIG1Jqrug9o",
      "include_colab_link": true
    },
    "kernelspec": {
      "name": "python3",
      "display_name": "Python 3"
    },
    "language_info": {
      "name": "python"
    }
  },
  "cells": [
    {
      "cell_type": "markdown",
      "metadata": {
        "id": "view-in-github",
        "colab_type": "text"
      },
      "source": [
        "<a href=\"https://colab.research.google.com/github/sophiewagner7/its-too-nice-out-to-take-a-cab/blob/main/notebooks/pre_process_weather_data.ipynb\" target=\"_parent\"><img src=\"https://colab.research.google.com/assets/colab-badge.svg\" alt=\"Open In Colab\"/></a>"
      ]
    },
    {
      "cell_type": "code",
      "source": [
        "%pip install metar-taf-parser-mivek"
      ],
      "metadata": {
        "id": "7DR0sDuFfesJ"
      },
      "execution_count": null,
      "outputs": []
    },
    {
      "cell_type": "code",
      "execution_count": null,
      "metadata": {
        "id": "_ZCicHK03HTq"
      },
      "outputs": [],
      "source": [
        "import pandas as pd\n",
        "#from metar import Metar\n",
        "#from metar_taf_parser.parser.parser import MetarParser\n",
        "\n"
      ]
    },
    {
      "cell_type": "code",
      "source": [
        "#obs = Metar.Metar('METAR KEWR 111851Z VRB03G19KT 2SM R04R/3000VP6000FT TSRA BR FEW015 BKN040CB BKN065 OVC200 22/22 A2987 RMK AO2 PK WND 29028/1817 WSHFT 1812 TSB05RAB22 SLP114 FRQ LTGICCCCG TS OHD AND NW -N-E MOV NE P0013 T02270215')\n",
        "#print(obs.string())"
      ],
      "metadata": {
        "id": "MjZJQDnZf7DF"
      },
      "execution_count": null,
      "outputs": []
    },
    {
      "cell_type": "code",
      "source": [
        "root_url = \"https://github.com/sophiewagner7/nyc-weather/raw/refs/heads/main/data/GHCNh\"\n",
        "\n",
        "dfs = []\n",
        "for year in range(2019, 2025):\n",
        "  file_name = f\"GHCNh_USW00094728_{year}.parquet\"\n",
        "  df_fragment = pd.read_parquet(f\"{root_url}/{file_name}\")\n",
        "  dfs.append(df_fragment)\n",
        "\n",
        "df = pd.concat(dfs)\n",
        "\n",
        "columns = [\n",
        "    \"DATE\",\n",
        "    \"temperature\",\n",
        "    \"dew_point_temperature\",\n",
        "    \"station_level_pressure\",\n",
        "    \"wind_direction\",\n",
        "    \"wind_speed\",\n",
        "    \"wind_gust\",\n",
        "    \"precipitation\",\n",
        "    \"relative_humidity\",\n",
        "    \"wet_bulb_temperature\",\n",
        "    \"pres_wx_MW1\",\n",
        "    \"pres_wx_MW2\",\n",
        "    \"pres_wx_MW3\",\n",
        "    \"snow_depth\",\n",
        "    \"visibility\",\n",
        "    \"altimeter\",\n",
        "    \"sky_cover_1\",\n",
        "    \"sky_cover_2\",\n",
        "    \"sky_cover_3\",\n",
        "    \"remarks\"\n",
        "]\n",
        "df = df[columns]\n",
        "\n",
        "df[\"datetime\"] = pd.to_datetime(df.DATE)\n",
        "df = df[df.datetime < \"2024-06-26\"]\n",
        "\n",
        "df[\"date\"] = df.datetime.dt.date\n",
        "df[\"hour\"] = df.datetime.dt.hour\n",
        "\n",
        "df.to_parquet(\"GHCNh_USW00094728_2019_to_2024.parquet\")\n"
      ],
      "metadata": {
        "id": "NBweYJ9958A1"
      },
      "execution_count": null,
      "outputs": []
    }
  ]
}