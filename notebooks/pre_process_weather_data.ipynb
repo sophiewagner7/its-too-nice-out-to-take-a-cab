{
  "nbformat": 4,
  "nbformat_minor": 0,
  "metadata": {
    "colab": {
      "provenance": [],
      "authorship_tag": "ABX9TyP9AlnLOL8jnUrjEPsM77mK",
      "include_colab_link": true
    },
    "kernelspec": {
      "name": "python3",
      "display_name": "Python 3"
    },
    "language_info": {
      "name": "python"
    }
  },
  "cells": [
    {
      "cell_type": "markdown",
      "metadata": {
        "id": "view-in-github",
        "colab_type": "text"
      },
      "source": [
        "<a href=\"https://colab.research.google.com/github/sophiewagner7/its-too-nice-out-to-take-a-cab/blob/main/notebooks/pre_process_weather_data.ipynb\" target=\"_parent\"><img src=\"https://colab.research.google.com/assets/colab-badge.svg\" alt=\"Open In Colab\"/></a>"
      ]
    },
    {
      "cell_type": "markdown",
      "source": [
        "# Pre-Process Weather Data\n",
        "\n",
        "Moacir P. de Sá Pereira\n",
        "\n",
        "This notebook wrangles our hourly weather data for the KNYC0 weather station in New York City. It iterates over several years’ worth of data downloaded from the [Global Historical Climate\n",
        "Network hourly\n",
        "(GHCNh)](https://www.ncei.noaa.gov/products/global-historical-climatology-network-hourly) database,\n",
        "which provides hourly weather data going back over two centuries for New\n",
        "York City. The data come in over 200 columns to\n",
        "account for the variability that can occur in the terse\n",
        "[METAR](https://en.wikipedia.org/wiki/METAR) report for airplanes, which is\n",
        "also included under `remarks`. The government provides a\n",
        "[codebook](https://www.ncei.noaa.gov/oa/global-historical-climatology-network/hourly/doc/ghcnh_DOCUMENTATION.pdf) to describe the remaining data.\n",
        "\n",
        "Though initially we had planned on keeping as much data as possible, instead we are reducing the dataset to the temperature, dew point, wind speed, precipitation, cloud cover, and relative humidity. They are all numeric values except `cloud_cover`, which is an ordinal categorical variable we derived that negatively indicates the amount of cloud cover (-4 is overcast, 0 is clear).\n",
        "\n",
        "Additionally, we calculate a difference between the value of each variable and the same time from a week earlier. It is based on these delta values that we will try to see if we can determine what makes a “nice” day.\n",
        "\n",
        "The resulting dataframe is saved to Google Colab and needs to be downloaded to be put back into Git.\n"
      ],
      "metadata": {
        "id": "wMT3gY6nN-jV"
      }
    },
    {
      "cell_type": "markdown",
      "source": [
        "## Imports and Concatenate Yearly Files"
      ],
      "metadata": {
        "id": "mVNSf22jQwAI"
      }
    },
    {
      "cell_type": "code",
      "source": [
        "#%pip install metar-taf-parser-mivek"
      ],
      "metadata": {
        "id": "7DR0sDuFfesJ"
      },
      "execution_count": null,
      "outputs": []
    },
    {
      "cell_type": "code",
      "execution_count": 1,
      "metadata": {
        "id": "_ZCicHK03HTq"
      },
      "outputs": [],
      "source": [
        "import pandas as pd\n",
        "#from metar import Metar\n",
        "#from metar_taf_parser.parser.parser import MetarParser\n",
        "\n"
      ]
    },
    {
      "cell_type": "code",
      "source": [
        "#obs = Metar.Metar('METAR KEWR 111851Z VRB03G19KT 2SM R04R/3000VP6000FT TSRA BR FEW015 BKN040CB BKN065 OVC200 22/22 A2987 RMK AO2 PK WND 29028/1817 WSHFT 1812 TSB05RAB22 SLP114 FRQ LTGICCCCG TS OHD AND NW -N-E MOV NE P0013 T02270215')\n",
        "#print(obs.string())"
      ],
      "metadata": {
        "id": "MjZJQDnZf7DF"
      },
      "execution_count": 2,
      "outputs": []
    },
    {
      "cell_type": "code",
      "source": [
        "root_url = \"https://github.com/sophiewagner7/nyc-weather/raw/refs/heads/main/data/GHCNh\"\n",
        "\n",
        "dfs = []\n",
        "for year in range(2019, 2025):\n",
        "  file_name = f\"GHCNh_USW00094728_{year}.parquet\"\n",
        "  df_fragment = pd.read_parquet(f\"{root_url}/{file_name}\")\n",
        "  dfs.append(df_fragment)\n",
        "\n",
        "df = pd.concat(dfs)"
      ],
      "metadata": {
        "id": "NXWAWbVal4Hx",
        "outputId": "b892ead5-e180-443b-ff40-7f57b3fe9bc6",
        "colab": {
          "base_uri": "https://localhost:8080/"
        }
      },
      "execution_count": 3,
      "outputs": [
        {
          "output_type": "stream",
          "name": "stderr",
          "text": [
            "<ipython-input-3-306c7318ca07>:9: FutureWarning: The behavior of DataFrame concatenation with empty or all-NA entries is deprecated. In a future version, this will no longer exclude empty or all-NA columns when determining the result dtypes. To retain the old behavior, exclude the relevant entries before the concat operation.\n",
            "  df = pd.concat(dfs)\n"
          ]
        }
      ]
    },
    {
      "cell_type": "markdown",
      "source": [
        "## Wrangle Data"
      ],
      "metadata": {
        "id": "ny1KzeVD9-8B"
      }
    },
    {
      "cell_type": "code",
      "source": [
        "def get_cloud_cover(row):\n",
        "  coverage = []\n",
        "  if row.sky_cover_1:\n",
        "    coverage.append(row.sky_cover_1)\n",
        "  if row.sky_cover_2:\n",
        "    coverage.append(row.sky_cover_2)\n",
        "  if row.sky_cover_3:\n",
        "    coverage.append(row.sky_cover_3)\n",
        "  coverage = \" \".join(coverage)\n",
        "  if \"OVC\" in coverage:\n",
        "    return -4\n",
        "  elif \"BKN\" in coverage:\n",
        "    return -3\n",
        "  elif \"SCT\" in coverage:\n",
        "    return -2\n",
        "  elif \"FEW\" in coverage:\n",
        "    return -1\n",
        "  else:\n",
        "    return 0\n"
      ],
      "metadata": {
        "id": "jNhxwwg0oqVu"
      },
      "execution_count": 4,
      "outputs": []
    },
    {
      "cell_type": "code",
      "source": [
        "# Fill precipitation NAs with .1mm of rain during trace rain\n",
        "\n",
        "df[\"precipitation\"] = df.apply(lambda row: .1 if row.precipitation_Measurement_Code == \"2-Trace\" else row.precipitation, axis=1)\n",
        "\n",
        "# Concatenate sky cover reports to determine sky cover.\n",
        "# Key:\n",
        "# -4 : Overcast\n",
        "# -3 : Broken Clouds\n",
        "# -2 : Scattered Clouds\n",
        "# -1 : Few Clouds\n",
        "# 0 : Clear skies\n",
        "df[\"cloud_cover\"] = df.apply(lambda row: get_cloud_cover(row), axis = 1)\n",
        "\n",
        "\n",
        "# Add datetime columns\n",
        "df[\"datetime\"] = pd.to_datetime(df.DATE)\n",
        "df = df.sort_values('datetime')\n",
        "df[\"datetime\"] = df[\"datetime\"].dt.floor('h')\n",
        "df[\"date\"] = df.datetime.dt.date\n",
        "df[\"hour\"] = df.datetime.dt.hour\n",
        "df = df.drop_duplicates(subset=['date', 'hour'], keep='last')\n",
        "df.set_index('datetime', inplace=True)\n",
        "\n",
        "# Zero out NAs\n",
        "for col in [\"wind_speed\", \"precipitation\", ]:\n",
        "  df[col] = df[col].fillna(0)\n",
        "\n",
        "# Interpolate NAs\n",
        "for col in [\"temperature\", \"dew_point_temperature\", \"relative_humidity\"]:\n",
        "  df[col] = df[col].interpolate()"
      ],
      "metadata": {
        "id": "NBweYJ9958A1",
        "outputId": "119dd327-943e-46ce-9589-95b2a0c6b51f",
        "colab": {
          "base_uri": "https://localhost:8080/"
        }
      },
      "execution_count": 5,
      "outputs": [
        {
          "output_type": "stream",
          "name": "stderr",
          "text": [
            "<ipython-input-5-0be99a38eb82>:12: PerformanceWarning: DataFrame is highly fragmented.  This is usually the result of calling `frame.insert` many times, which has poor performance.  Consider joining all columns at once using pd.concat(axis=1) instead. To get a de-fragmented frame, use `newframe = frame.copy()`\n",
            "  df[\"cloud_cover\"] = df.apply(lambda row: get_cloud_cover(row), axis = 1)\n",
            "<ipython-input-5-0be99a38eb82>:16: PerformanceWarning: DataFrame is highly fragmented.  This is usually the result of calling `frame.insert` many times, which has poor performance.  Consider joining all columns at once using pd.concat(axis=1) instead. To get a de-fragmented frame, use `newframe = frame.copy()`\n",
            "  df[\"datetime\"] = pd.to_datetime(df.DATE)\n"
          ]
        }
      ]
    },
    {
      "cell_type": "markdown",
      "source": [
        "## Remove Columns"
      ],
      "metadata": {
        "id": "ibUAXovv_rGa"
      }
    },
    {
      "cell_type": "code",
      "source": [
        "columns = [\n",
        "    \"date\",\n",
        "    \"hour\",\n",
        "    \"temperature\",\n",
        "    \"dew_point_temperature\",\n",
        "    \"wind_speed\",\n",
        "    \"precipitation\",\n",
        "    \"cloud_cover\",\n",
        "    \"relative_humidity\",\n",
        "    \"remarks\"\n",
        "]\n",
        "\n",
        "df = df[columns]"
      ],
      "metadata": {
        "id": "8vm3cZ088-Pt"
      },
      "execution_count": 6,
      "outputs": []
    },
    {
      "cell_type": "code",
      "source": [
        "df.to_parquet(\"GHCNh_USW00094728_2019_to_2024.parquet\")"
      ],
      "metadata": {
        "id": "qzsU-J6qmPT6"
      },
      "execution_count": 7,
      "outputs": []
    },
    {
      "cell_type": "code",
      "source": [],
      "metadata": {
        "id": "6S8FkZ423AYX"
      },
      "execution_count": null,
      "outputs": []
    }
  ]
}